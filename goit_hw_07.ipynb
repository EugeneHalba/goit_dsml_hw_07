{
  "nbformat": 4,
  "nbformat_minor": 0,
  "metadata": {
    "anaconda-cloud": {},
    "kernelspec": {
      "display_name": "Python 2",
      "language": "python",
      "name": "python2"
    },
    "language_info": {
      "codemirror_mode": {
        "name": "ipython",
        "version": 2
      },
      "file_extension": ".py",
      "mimetype": "text/x-python",
      "name": "python",
      "nbconvert_exporter": "python",
      "pygments_lexer": "ipython2",
      "version": "2.7.15"
    },
    "colab": {
      "provenance": []
    }
  },
  "cells": [
    {
      "cell_type": "markdown",
      "metadata": {
        "id": "QH4MTNLJF0cX"
      },
      "source": [
        "# Лінійна регресія: перенавчання і регуляризація"
      ]
    },
    {
      "cell_type": "markdown",
      "metadata": {
        "id": "_4Ozl-xzF0cb"
      },
      "source": [
        "У цьому завданні ми на прикладах побачимо, як перенавчаються лінійні моделі, розберемо, чому так відбувається, і з'ясуємо, як діагностувати та контролювати перенавчання.\n",
        "\n",
        "В усіх комірках, де вказаний коментар з інструкціями, потрібно написати код, який виконує ці інструкції. Решту комірок із кодом (без коментарів) треба просто виконати. Крім того, у завданні необхідно відповідати на запитання; відповіді потрібно вписувати після виділеного слова \"__Відповідь:__\"."
      ]
    },
    {
      "cell_type": "code",
      "metadata": {
        "id": "Q7qwUYsiF0cc"
      },
      "source": [
        "import pandas as pd\n",
        "import numpy as np\n",
        "from matplotlib import pyplot as plt\n",
        "%matplotlib inline"
      ],
      "execution_count": null,
      "outputs": []
    },
    {
      "cell_type": "markdown",
      "metadata": {
        "id": "lAIZa5LXF0ce"
      },
      "source": [
        "Ми будемо працювати з датасетом __\"bikes_rent.csv\"__, у якому по днях записані календарна інформація та погодні умови, що характеризують автоматизовані пункти прокату велосипедів, а також кількість прокатів у цей день. Останнє ми будемо передбачати; таким чином, ми будемо розв'язувати завдання регресії."
      ]
    },
    {
      "cell_type": "markdown",
      "metadata": {
        "id": "bL3VD-Z9F0ce"
      },
      "source": [
        "### Ознайомлення з даними"
      ]
    },
    {
      "cell_type": "markdown",
      "metadata": {
        "id": "PlxEpVFqghIe"
      },
      "source": [
        "## Завдання 1"
      ]
    },
    {
      "cell_type": "markdown",
      "metadata": {
        "id": "5HYQjYnVF0cf"
      },
      "source": [
        "Завантажте датасет за допомогою функції __pandas.read_csv__ у змінну __df__. Виведіть перші 5 рядків, щоб переконатися в коректному зчитуванні даних:"
      ]
    },
    {
      "cell_type": "code",
      "metadata": {
        "id": "moafDqLOF0cf"
      },
      "source": [
        "#https://drive.google.com/file/d/1-4wgz9AFXrD3tZfqHJLMhCmy4BUzAX96/export?format=csv\n",
        "\n",
        "\n",
        "data_url = \"https://drive.google.com/file/d/1-4wgz9AFXrD3tZfqHJLMhCmy4BUzAX96/export?format=csv\"\n",
        "path = 'https://drive.google.com/uc?export=download&id='+data_url.split('/')[-2]\n",
        "df = pd.read_csv(path)"
      ],
      "execution_count": null,
      "outputs": []
    },
    {
      "cell_type": "code",
      "source": [
        "df.info()"
      ],
      "metadata": {
        "colab": {
          "base_uri": "https://localhost:8080/"
        },
        "id": "7WnYG53brdBR",
        "outputId": "e7f360bb-aa0d-41cb-e9bd-4ee680b916d0"
      },
      "execution_count": null,
      "outputs": [
        {
          "output_type": "stream",
          "name": "stdout",
          "text": [
            "<class 'pandas.core.frame.DataFrame'>\n",
            "RangeIndex: 731 entries, 0 to 730\n",
            "Data columns (total 13 columns):\n",
            " #   Column          Non-Null Count  Dtype  \n",
            "---  ------          --------------  -----  \n",
            " 0   season          731 non-null    int64  \n",
            " 1   yr              731 non-null    int64  \n",
            " 2   mnth            731 non-null    int64  \n",
            " 3   holiday         731 non-null    int64  \n",
            " 4   weekday         731 non-null    int64  \n",
            " 5   workingday      731 non-null    int64  \n",
            " 6   weathersit      731 non-null    int64  \n",
            " 7   temp            731 non-null    float64\n",
            " 8   atemp           731 non-null    float64\n",
            " 9   hum             731 non-null    float64\n",
            " 10  windspeed(mph)  731 non-null    float64\n",
            " 11  windspeed(ms)   731 non-null    float64\n",
            " 12  cnt             731 non-null    int64  \n",
            "dtypes: float64(5), int64(8)\n",
            "memory usage: 74.4 KB\n"
          ]
        }
      ]
    },
    {
      "cell_type": "markdown",
      "metadata": {
        "id": "arebsdFoF0ch"
      },
      "source": [
        "Для кожного дня прокату відомі такі ознаки:\n",
        "* _season_: 1 — весна, 2 — літо, 3 — осінь, 4 — зима\n",
        "* _yr_: 0 — 2011, 1 — 2012\n",
        "* _mnth_: від 1 до 12\n",
        "* _holiday_: 0 — немає свята, 1 — є свято\n",
        "* _weekday_: від 0 до 6\n",
        "* _workingday_: 0 — неробочий день, 1 — робочий день\n",
        "* _weathersit_: оцінка сприятливості погоди від 1 (чистий, ясний день) до 4 (злива, туман)\n",
        "* _temp_: температура в Цельсіях\n",
        "* _atemp_: температура за відчуттями в Цельсіях\n",
        "* _hum_: вологість\n",
        "* _windspeed(mph)_: швидкість вітру в милях за годину\n",
        "* _windspeed(ms)_: швидкість вітру в метрах за секунду\n",
        "* _cnt_: кількість орендованих велосипедів (це цільова ознака, її ми будемо передбачати)\n",
        "\n",
        "Отже, у нас є речові, бінарні та номінальні (порядкові) ознаки, і з усіма з них можна працювати як з речовими. З номінальними ознаками теж можна працювати як з речовими, тому що на них заданий порядок. Давайте подивимося на графіках, як цільова ознака залежить від решти."
      ]
    },
    {
      "cell_type": "markdown",
      "metadata": {
        "id": "w_bf05QXe60r"
      },
      "source": [
        "Побудуйте графіки залежностей атрибутів від кількості поїздок. Іншими словами, вам потрібно побудувати 12 графіків. На кожному має бути зображена залежність чергового атрибута від змінної **cnt**."
      ]
    },
    {
      "cell_type": "code",
      "metadata": {
        "id": "N72yVVRYF0ci"
      },
      "source": [
        "df_features = df.columns[:-1]\n",
        "df_target = df.columns[-1]\n",
        "# print(f\"{df_features=}\")\n",
        "# print(f\"{df_target=}\")"
      ],
      "execution_count": null,
      "outputs": []
    },
    {
      "cell_type": "code",
      "source": [
        "from matplotlib import pyplot as plt\n",
        "import seaborn as sns\n",
        "\n",
        "def plot_series(ax, df, xlabel, ylabel):\n",
        "  xs = df[xlabel]\n",
        "  ys =  df[ylabel]\n",
        "  ax.set_title(f'{ylabel} from {xlabel}')\n",
        "  ax.set_xlabel(xlabel)\n",
        "  ax.set_ylabel(ylabel)\n",
        "  ax.bar(xs, ys)"
      ],
      "metadata": {
        "id": "Sw-qbovHvGNO"
      },
      "execution_count": null,
      "outputs": []
    },
    {
      "cell_type": "code",
      "source": [
        "cols = 3\n",
        "fig, axs = plt.subplots( len(df_features) // cols, cols, figsize=(16,8), layout='constrained')\n",
        "\n",
        "for ax, feature in zip(axs.flat, df_features):\n",
        " plot_series(ax, df, feature, df_target  )"
      ],
      "metadata": {
        "colab": {
          "base_uri": "https://localhost:8080/",
          "height": 828
        },
        "id": "fdmv62ZjvKVa",
        "outputId": "b172152d-6397-4856-b296-8a3344ee21ee"
      },
      "execution_count": null,
      "outputs": [
        {
          "output_type": "display_data",
          "data": {
            "text/plain": [
              "<Figure size 1600x800 with 12 Axes>"
            ],
            "image/png": "[encoded data removed]"
          },
          "metadata": {}
        }
      ]
    },
    {
      "cell_type": "markdown",
      "metadata": {
        "id": "1g8iwiimF0cj"
      },
      "source": [
        "__Запитання:__\n",
        "1. Яким є характер залежності кількості прокатів від місяця?\n",
        "1. Вкажіть одну або дві ознаки, від яких кількість прокатів скоріше за все залежить лінійно."
      ]
    },
    {
      "cell_type": "markdown",
      "source": [
        "1 Починаючи з березня до жовтня явно видно сезонність прокатів. залежність має майже лінійний характер з максимумом в вересні місяці. Можна зробити висновок, що жовтень - лютий не сезон дя прокату велосипедів."
      ],
      "metadata": {
        "id": "zUJaW7UivajX"
      }
    },
    {
      "cell_type": "markdown",
      "source": [
        "2 Temp, Hum"
      ],
      "metadata": {
        "id": "XSe6rmTIvxT0"
      }
    },
    {
      "cell_type": "markdown",
      "metadata": {
        "id": "rB2NCSXbF0cj"
      },
      "source": [
        "## Завдання 2\n",
        "\n",
        "Давайте більш строго оцінимо рівень лінійної залежності між ознаками та цільовою змінною. Гарною мірою лінійної залежності між двома векторами є кореляція Пірсона. Нам уже доводилося мати з нею справу раніше. Для її обчислення в pandas можна використовувати методи датафрейму: corr і corrwith."
      ]
    },
    {
      "cell_type": "markdown",
      "metadata": {
        "id": "ykR_leNKF0ck"
      },
      "source": [
        "Порахуйте кореляції всіх ознак, окрім останньої, з останньою за допомогою методу `corrwith`."
      ]
    },
    {
      "cell_type": "code",
      "metadata": {
        "id": "v3RlugT3F0ck",
        "colab": {
          "base_uri": "https://localhost:8080/",
          "height": 426
        },
        "outputId": "6d5d4b53-0def-4cb4-f805-2a3eee75d6fe"
      },
      "source": [
        "df[df_features].corr()"
      ],
      "execution_count": null,
      "outputs": [
        {
          "output_type": "execute_result",
          "data": {
            "text/plain": [
              "                  season        yr      mnth   holiday   weekday  workingday  \\\n",
              "season          1.000000 -0.001844  0.831440 -0.010537 -0.003080    0.012485   \n",
              "yr             -0.001844  1.000000 -0.001792  0.007954 -0.005461   -0.002013   \n",
              "mnth            0.831440 -0.001792  1.000000  0.019191  0.009509   -0.005901   \n",
              "holiday        -0.010537  0.007954  0.019191  1.000000 -0.101960   -0.253023   \n",
              "weekday        -0.003080 -0.005461  0.009509 -0.101960  1.000000    0.035790   \n",
              "workingday      0.012485 -0.002013 -0.005901 -0.253023  0.035790    1.000000   \n",
              "weathersit      0.019211 -0.048727  0.043528 -0.034627  0.031087    0.061200   \n",
              "temp            0.334315  0.047604  0.220205 -0.028556 -0.000170    0.052660   \n",
              "atemp           0.342876  0.046106  0.227459 -0.032507 -0.007537    0.052182   \n",
              "hum             0.205445 -0.110651  0.222204 -0.015937 -0.052232    0.024327   \n",
              "windspeed(mph) -0.229046 -0.011817 -0.207502  0.006292  0.014282   -0.018796   \n",
              "windspeed(ms)  -0.229046 -0.011817 -0.207502  0.006292  0.014282   -0.018796   \n",
              "\n",
              "                weathersit      temp     atemp       hum  windspeed(mph)  \\\n",
              "season            0.019211  0.334315  0.342876  0.205445       -0.229046   \n",
              "yr               -0.048727  0.047604  0.046106 -0.110651       -0.011817   \n",
              "mnth              0.043528  0.220205  0.227459  0.222204       -0.207502   \n",
              "holiday          -0.034627 -0.028556 -0.032507 -0.015937        0.006292   \n",
              "weekday           0.031087 -0.000170 -0.007537 -0.052232        0.014282   \n",
              "workingday        0.061200  0.052660  0.052182  0.024327       -0.018796   \n",
              "weathersit        1.000000 -0.120602 -0.121583  0.591045        0.039511   \n",
              "temp             -0.120602  1.000000  0.991702  0.126963       -0.157944   \n",
              "atemp            -0.121583  0.991702  1.000000  0.139988       -0.183643   \n",
              "hum               0.591045  0.126963  0.139988  1.000000       -0.248489   \n",
              "windspeed(mph)    0.039511 -0.157944 -0.183643 -0.248489        1.000000   \n",
              "windspeed(ms)     0.039511 -0.157944 -0.183643 -0.248489        1.000000   \n",
              "\n",
              "                windspeed(ms)  \n",
              "season              -0.229046  \n",
              "yr                  -0.011817  \n",
              "mnth                -0.207502  \n",
              "holiday              0.006292  \n",
              "weekday              0.014282  \n",
              "workingday          -0.018796  \n",
              "weathersit           0.039511  \n",
              "temp                -0.157944  \n",
              "atemp               -0.183643  \n",
              "hum                 -0.248489  \n",
              "windspeed(mph)       1.000000  \n",
              "windspeed(ms)        1.000000  "
            ],
            "text/html": [
              "\n",
              "  <div id=\"df-aaf7a8e8-325d-4147-b6e5-b2be18e5dc64\" class=\"colab-df-container\">\n",
              "    <div>\n",
              "<style scoped>\n",
              "    .dataframe tbody tr th:only-of-type {\n",
              "        vertical-align: middle;\n",
              "    }\n",
              "\n",
              "    .dataframe tbody tr th {\n",
              "        vertical-align: top;\n",
              "    }\n",
              "\n",
              "    .dataframe thead th {\n",
              "        text-align: right;\n",
              "    }\n",
              "</style>\n",
              "<table border=\"1\" class=\"dataframe\">\n",
              "  <thead>\n",
              "    <tr style=\"text-align: right;\">\n",
              "      <th></th>\n",
              "      <th>season</th>\n",
              "      <th>yr</th>\n",
              "      <th>mnth</th>\n",
              "      <th>holiday</th>\n",
              "      <th>weekday</th>\n",
              "      <th>workingday</th>\n",
              "      <th>weathersit</th>\n",
              "      <th>temp</th>\n",
              "      <th>atemp</th>\n",
              "      <th>hum</th>\n",
              "      <th>windspeed(mph)</th>\n",
              "      <th>windspeed(ms)</th>\n",
              "    </tr>\n",
              "  </thead>\n",
              "  <tbody>\n",
              "    <tr>\n",
              "      <th>season</th>\n",
              "      <td>1.000000</td>\n",
              "      <td>-0.001844</td>\n",
              "      <td>0.831440</td>\n",
              "      <td>-0.010537</td>\n",
              "      <td>-0.003080</td>\n",
              "      <td>0.012485</td>\n",
              "      <td>0.019211</td>\n",
              "      <td>0.334315</td>\n",
              "      <td>0.342876</td>\n",
              "      <td>0.205445</td>\n",
              "      <td>-0.229046</td>\n",
              "      <td>-0.229046</td>\n",
              "    </tr>\n",
              "    <tr>\n",
              "      <th>yr</th>\n",
              "      <td>-0.001844</td>\n",
              "      <td>1.000000</td>\n",
              "      <td>-0.001792</td>\n",
              "      <td>0.007954</td>\n",
              "      <td>-0.005461</td>\n",
              "      <td>-0.002013</td>\n",
              "      <td>-0.048727</td>\n",
              "      <td>0.047604</td>\n",
              "      <td>0.046106</td>\n",
              "      <td>-0.110651</td>\n",
              "      <td>-0.011817</td>\n",
              "      <td>-0.011817</td>\n",
              "    </tr>\n",
              "    <tr>\n",
              "      <th>mnth</th>\n",
              "      <td>0.831440</td>\n",
              "      <td>-0.001792</td>\n",
              "      <td>1.000000</td>\n",
              "      <td>0.019191</td>\n",
              "      <td>0.009509</td>\n",
              "      <td>-0.005901</td>\n",
              "      <td>0.043528</td>\n",
              "      <td>0.220205</td>\n",
              "      <td>0.227459</td>\n",
              "      <td>0.222204</td>\n",
              "      <td>-0.207502</td>\n",
              "      <td>-0.207502</td>\n",
              "    </tr>\n",
              "    <tr>\n",
              "      <th>holiday</th>\n",
              "      <td>-0.010537</td>\n",
              "      <td>0.007954</td>\n",
              "      <td>0.019191</td>\n",
              "      <td>1.000000</td>\n",
              "      <td>-0.101960</td>\n",
              "      <td>-0.253023</td>\n",
              "      <td>-0.034627</td>\n",
              "      <td>-0.028556</td>\n",
              "      <td>-0.032507</td>\n",
              "      <td>-0.015937</td>\n",
              "      <td>0.006292</td>\n",
              "      <td>0.006292</td>\n",
              "    </tr>\n",
              "    <tr>\n",
              "      <th>weekday</th>\n",
              "      <td>-0.003080</td>\n",
              "      <td>-0.005461</td>\n",
              "      <td>0.009509</td>\n",
              "      <td>-0.101960</td>\n",
              "      <td>1.000000</td>\n",
              "      <td>0.035790</td>\n",
              "      <td>0.031087</td>\n",
              "      <td>-0.000170</td>\n",
              "      <td>-0.007537</td>\n",
              "      <td>-0.052232</td>\n",
              "      <td>0.014282</td>\n",
              "      <td>0.014282</td>\n",
              "    </tr>\n",
              "    <tr>\n",
              "      <th>workingday</th>\n",
              "      <td>0.012485</td>\n",
              "      <td>-0.002013</td>\n",
              "      <td>-0.005901</td>\n",
              "      <td>-0.253023</td>\n",
              "      <td>0.035790</td>\n",
              "      <td>1.000000</td>\n",
              "      <td>0.061200</td>\n",
              "      <td>0.052660</td>\n",
              "      <td>0.052182</td>\n",
              "      <td>0.024327</td>\n",
              "      <td>-0.018796</td>\n",
              "      <td>-0.018796</td>\n",
              "    </tr>\n",
              "    <tr>\n",
              "      <th>weathersit</th>\n",
              "      <td>0.019211</td>\n",
              "      <td>-0.048727</td>\n",
              "      <td>0.043528</td>\n",
              "      <td>-0.034627</td>\n",
              "      <td>0.031087</td>\n",
              "      <td>0.061200</td>\n",
              "      <td>1.000000</td>\n",
              "      <td>-0.120602</td>\n",
              "      <td>-0.121583</td>\n",
              "      <td>0.591045</td>\n",
              "      <td>0.039511</td>\n",
              "      <td>0.039511</td>\n",
              "    </tr>\n",
              "    <tr>\n",
              "      <th>temp</th>\n",
              "      <td>0.334315</td>\n",
              "      <td>0.047604</td>\n",
              "      <td>0.220205</td>\n",
              "      <td>-0.028556</td>\n",
              "      <td>-0.000170</td>\n",
              "      <td>0.052660</td>\n",
              "      <td>-0.120602</td>\n",
              "      <td>1.000000</td>\n",
              "      <td>0.991702</td>\n",
              "      <td>0.126963</td>\n",
              "      <td>-0.157944</td>\n",
              "      <td>-0.157944</td>\n",
              "    </tr>\n",
              "    <tr>\n",
              "      <th>atemp</th>\n",
              "      <td>0.342876</td>\n",
              "      <td>0.046106</td>\n",
              "      <td>0.227459</td>\n",
              "      <td>-0.032507</td>\n",
              "      <td>-0.007537</td>\n",
              "      <td>0.052182</td>\n",
              "      <td>-0.121583</td>\n",
              "      <td>0.991702</td>\n",
              "      <td>1.000000</td>\n",
              "      <td>0.139988</td>\n",
              "      <td>-0.183643</td>\n",
              "      <td>-0.183643</td>\n",
              "    </tr>\n",
              "    <tr>\n",
              "      <th>hum</th>\n",
              "      <td>0.205445</td>\n",
              "      <td>-0.110651</td>\n",
              "      <td>0.222204</td>\n",
              "      <td>-0.015937</td>\n",
              "      <td>-0.052232</td>\n",
              "      <td>0.024327</td>\n",
              "      <td>0.591045</td>\n",
              "      <td>0.126963</td>\n",
              "      <td>0.139988</td>\n",
              "      <td>1.000000</td>\n",
              "      <td>-0.248489</td>\n",
              "      <td>-0.248489</td>\n",
              "    </tr>\n",
              "    <tr>\n",
              "      <th>windspeed(mph)</th>\n",
              "      <td>-0.229046</td>\n",
              "      <td>-0.011817</td>\n",
              "      <td>-0.207502</td>\n",
              "      <td>0.006292</td>\n",
              "      <td>0.014282</td>\n",
              "      <td>-0.018796</td>\n",
              "      <td>0.039511</td>\n",
              "      <td>-0.157944</td>\n",
              "      <td>-0.183643</td>\n",
              "      <td>-0.248489</td>\n",
              "      <td>1.000000</td>\n",
              "      <td>1.000000</td>\n",
              "    </tr>\n",
              "    <tr>\n",
              "      <th>windspeed(ms)</th>\n",
              "      <td>-0.229046</td>\n",
              "      <td>-0.011817</td>\n",
              "      <td>-0.207502</td>\n",
              "      <td>0.006292</td>\n",
              "      <td>0.014282</td>\n",
              "      <td>-0.018796</td>\n",
              "      <td>0.039511</td>\n",
              "      <td>-0.157944</td>\n",
              "      <td>-0.183643</td>\n",
              "      <td>-0.248489</td>\n",
              "      <td>1.000000</td>\n",
              "      <td>1.000000</td>\n",
              "    </tr>\n",
              "  </tbody>\n",
              "</table>\n",
              "</div>\n",
              "    <div class=\"colab-df-buttons\">\n",
              "\n",
              "  <div class=\"colab-df-container\">\n",
              "    <button class=\"colab-df-convert\" onclick=\"convertToInteractive('df-aaf7a8e8-325d-4147-b6e5-b2be18e5dc64')\"\n",
              "            title=\"Convert this dataframe to an interactive table.\"\n",
              "            style=\"display:none;\">\n",
              "\n",
              "  <svg xmlns=\"http://www.w3.org/2000/svg\" height=\"24px\" viewBox=\"0 -960 960 960\">\n",
              "    <path d=\"M120-120v-720h720v720H120Zm60-500h600v-160H180v160Zm220 220h160v-160H400v160Zm0 220h160v-160H400v160ZM180-400h160v-160H180v160Zm440 0h160v-160H620v160ZM180-180h160v-160H180v160Zm440 0h160v-160H620v160Z\"/>\n",
              "  </svg>\n",
              "    </button>\n",
              "\n",
              "  <style>\n",
              "    .colab-df-container {\n",
              "      display:flex;\n",
              "      gap: 12px;\n",
              "    }\n",
              "\n",
              "    .colab-df-convert {\n",
              "      background-color: #E8F0FE;\n",
              "      border: none;\n",
              "      border-radius: 50%;\n",
              "      cursor: pointer;\n",
              "      display: none;\n",
              "      fill: #1967D2;\n",
              "      height: 32px;\n",
              "      padding: 0 0 0 0;\n",
              "      width: 32px;\n",
              "    }\n",
              "\n",
              "    .colab-df-convert:hover {\n",
              "      background-color: #E2EBFA;\n",
              "      box-shadow: 0px 1px 2px rgba(60, 64, 67, 0.3), 0px 1px 3px 1px rgba(60, 64, 67, 0.15);\n",
              "      fill: #174EA6;\n",
              "    }\n",
              "\n",
              "    .colab-df-buttons div {\n",
              "      margin-bottom: 4px;\n",
              "    }\n",
              "\n",
              "    [theme=dark] .colab-df-convert {\n",
              "      background-color: #3B4455;\n",
              "      fill: #D2E3FC;\n",
              "    }\n",
              "\n",
              "    [theme=dark] .colab-df-convert:hover {\n",
              "      background-color: #434B5C;\n",
              "      box-shadow: 0px 1px 3px 1px rgba(0, 0, 0, 0.15);\n",
              "      filter: drop-shadow(0px 1px 2px rgba(0, 0, 0, 0.3));\n",
              "      fill: #FFFFFF;\n",
              "    }\n",
              "  </style>\n",
              "\n",
              "    <script>\n",
              "      const buttonEl =\n",
              "        document.querySelector('#df-aaf7a8e8-325d-4147-b6e5-b2be18e5dc64 button.colab-df-convert');\n",
              "      buttonEl.style.display =\n",
              "        google.colab.kernel.accessAllowed ? 'block' : 'none';\n",
              "\n",
              "      async function convertToInteractive(key) {\n",
              "        const element = document.querySelector('#df-aaf7a8e8-325d-4147-b6e5-b2be18e5dc64');\n",
              "        const dataTable =\n",
              "          await google.colab.kernel.invokeFunction('convertToInteractive',\n",
              "                                                    [key], {});\n",
              "        if (!dataTable) return;\n",
              "\n",
              "        const docLinkHtml = 'Like what you see? Visit the ' +\n",
              "          '<a target=\"_blank\" href=https://colab.research.google.com/notebooks/data_table.ipynb>data table notebook</a>'\n",
              "          + ' to learn more about interactive tables.';\n",
              "        element.innerHTML = '';\n",
              "        dataTable['output_type'] = 'display_data';\n",
              "        await google.colab.output.renderOutput(dataTable, element);\n",
              "        const docLink = document.createElement('div');\n",
              "        docLink.innerHTML = docLinkHtml;\n",
              "        element.appendChild(docLink);\n",
              "      }\n",
              "    </script>\n",
              "  </div>\n",
              "\n",
              "\n",
              "<div id=\"df-b9921b24-e674-48bf-ad58-ffba65903a6d\">\n",
              "  <button class=\"colab-df-quickchart\" onclick=\"quickchart('df-b9921b24-e674-48bf-ad58-ffba65903a6d')\"\n",
              "            title=\"Suggest charts\"\n",
              "            style=\"display:none;\">\n",
              "\n",
              "<svg xmlns=\"http://www.w3.org/2000/svg\" height=\"24px\"viewBox=\"0 0 24 24\"\n",
              "     width=\"24px\">\n",
              "    <g>\n",
              "        <path d=\"M19 3H5c-1.1 0-2 .9-2 2v14c0 1.1.9 2 2 2h14c1.1 0 2-.9 2-2V5c0-1.1-.9-2-2-2zM9 17H7v-7h2v7zm4 0h-2V7h2v10zm4 0h-2v-4h2v4z\"/>\n",
              "    </g>\n",
              "</svg>\n",
              "  </button>\n",
              "\n",
              "<style>\n",
              "  .colab-df-quickchart {\n",
              "      --bg-color: #E8F0FE;\n",
              "      --fill-color: #1967D2;\n",
              "      --hover-bg-color: #E2EBFA;\n",
              "      --hover-fill-color: #174EA6;\n",
              "      --disabled-fill-color: #AAA;\n",
              "      --disabled-bg-color: #DDD;\n",
              "  }\n",
              "\n",
              "  [theme=dark] .colab-df-quickchart {\n",
              "      --bg-color: #3B4455;\n",
              "      --fill-color: #D2E3FC;\n",
              "      --hover-bg-color: #434B5C;\n",
              "      --hover-fill-color: #FFFFFF;\n",
              "      --disabled-bg-color: #3B4455;\n",
              "      --disabled-fill-color: #666;\n",
              "  }\n",
              "\n",
              "  .colab-df-quickchart {\n",
              "    background-color: var(--bg-color);\n",
              "    border: none;\n",
              "    border-radius: 50%;\n",
              "    cursor: pointer;\n",
              "    display: none;\n",
              "    fill: var(--fill-color);\n",
              "    height: 32px;\n",
              "    padding: 0;\n",
              "    width: 32px;\n",
              "  }\n",
              "\n",
              "  .colab-df-quickchart:hover {\n",
              "    background-color: var(--hover-bg-color);\n",
              "    box-shadow: 0 1px 2px rgba(60, 64, 67, 0.3), 0 1px 3px 1px rgba(60, 64, 67, 0.15);\n",
              "    fill: var(--button-hover-fill-color);\n",
              "  }\n",
              "\n",
              "  .colab-df-quickchart-complete:disabled,\n",
              "  .colab-df-quickchart-complete:disabled:hover {\n",
              "    background-color: var(--disabled-bg-color);\n",
              "    fill: var(--disabled-fill-color);\n",
              "    box-shadow: none;\n",
              "  }\n",
              "\n",
              "  .colab-df-spinner {\n",
              "    border: 2px solid var(--fill-color);\n",
              "    border-color: transparent;\n",
              "    border-bottom-color: var(--fill-color);\n",
              "    animation:\n",
              "      spin 1s steps(1) infinite;\n",
              "  }\n",
              "\n",
              "  @keyframes spin {\n",
              "    0% {\n",
              "      border-color: transparent;\n",
              "      border-bottom-color: var(--fill-color);\n",
              "      border-left-color: var(--fill-color);\n",
              "    }\n",
              "    20% {\n",
              "      border-color: transparent;\n",
              "      border-left-color: var(--fill-color);\n",
              "      border-top-color: var(--fill-color);\n",
              "    }\n",
              "    30% {\n",
              "      border-color: transparent;\n",
              "      border-left-color: var(--fill-color);\n",
              "      border-top-color: var(--fill-color);\n",
              "      border-right-color: var(--fill-color);\n",
              "    }\n",
              "    40% {\n",
              "      border-color: transparent;\n",
              "      border-right-color: var(--fill-color);\n",
              "      border-top-color: var(--fill-color);\n",
              "    }\n",
              "    60% {\n",
              "      border-color: transparent;\n",
              "      border-right-color: var(--fill-color);\n",
              "    }\n",
              "    80% {\n",
              "      border-color: transparent;\n",
              "      border-right-color: var(--fill-color);\n",
              "      border-bottom-color: var(--fill-color);\n",
              "    }\n",
              "    90% {\n",
              "      border-color: transparent;\n",
              "      border-bottom-color: var(--fill-color);\n",
              "    }\n",
              "  }\n",
              "</style>\n",
              "\n",
              "  <script>\n",
              "    async function quickchart(key) {\n",
              "      const quickchartButtonEl =\n",
              "        document.querySelector('#' + key + ' button');\n",
              "      quickchartButtonEl.disabled = true;  // To prevent multiple clicks.\n",
              "      quickchartButtonEl.classList.add('colab-df-spinner');\n",
              "      try {\n",
              "        const charts = await google.colab.kernel.invokeFunction(\n",
              "            'suggestCharts', [key], {});\n",
              "      } catch (error) {\n",
              "        console.error('Error during call to suggestCharts:', error);\n",
              "      }\n",
              "      quickchartButtonEl.classList.remove('colab-df-spinner');\n",
              "      quickchartButtonEl.classList.add('colab-df-quickchart-complete');\n",
              "    }\n",
              "    (() => {\n",
              "      let quickchartButtonEl =\n",
              "        document.querySelector('#df-b9921b24-e674-48bf-ad58-ffba65903a6d button');\n",
              "      quickchartButtonEl.style.display =\n",
              "        google.colab.kernel.accessAllowed ? 'block' : 'none';\n",
              "    })();\n",
              "  </script>\n",
              "</div>\n",
              "    </div>\n",
              "  </div>\n"
            ],
            "application/vnd.google.colaboratory.intrinsic+json": {
              "type": "dataframe",
              "summary": "{\n  \"name\": \"df[df_features]\",\n  \"rows\": 12,\n  \"fields\": [\n    {\n      \"column\": \"season\",\n      \"properties\": {\n        \"dtype\": \"number\",\n        \"std\": 0.3859057604517479,\n        \"min\": -0.22904633734689742,\n        \"max\": 1.0,\n        \"num_unique_values\": 12,\n        \"samples\": [\n          -0.2290463373468453,\n          0.20544476453974048,\n          1.0\n        ],\n        \"semantic_type\": \"\",\n        \"description\": \"\"\n      }\n    },\n    {\n      \"column\": \"yr\",\n      \"properties\": {\n        \"dtype\": \"number\",\n        \"std\": 0.29399393680097413,\n        \"min\": -0.11065104471778081,\n        \"max\": 1.0,\n        \"num_unique_values\": 12,\n        \"samples\": [\n          -0.011817059907781445,\n          -0.11065104471778081,\n          -0.0018443425624099271\n        ],\n        \"semantic_type\": \"\",\n        \"description\": \"\"\n      }\n    },\n    {\n      \"column\": \"mnth\",\n      \"properties\": {\n        \"dtype\": \"number\",\n        \"std\": 0.37463816011958795,\n        \"min\": -0.20750175158485323,\n        \"max\": 1.0,\n        \"num_unique_values\": 12,\n        \"samples\": [\n          -0.2075017515846421,\n          0.22220369068898133,\n          0.8314401142104252\n        ],\n        \"semantic_type\": \"\",\n        \"description\": \"\"\n      }\n    },\n    {\n      \"column\": \"holiday\",\n      \"properties\": {\n        \"dtype\": \"number\",\n        \"std\": 0.3092495869070213,\n        \"min\": -0.2530226996846281,\n        \"max\": 1.0,\n        \"num_unique_values\": 12,\n        \"samples\": [\n          0.006291506543788789,\n          -0.01593747850652258,\n          -0.01053665873599923\n        ],\n        \"semantic_type\": \"\",\n        \"description\": \"\"\n      }\n    },\n    {\n      \"column\": \"weekday\",\n      \"properties\": {\n        \"dtype\": \"number\",\n        \"std\": 0.29282171285612346,\n        \"min\": -0.10196026886035356,\n        \"max\": 1.0,\n        \"num_unique_values\": 12,\n        \"samples\": [\n          0.014282124142083576,\n          -0.05223210040137854,\n          -0.0030798813391720477\n        ],\n        \"semantic_type\": \"\",\n        \"description\": \"\"\n      }\n    },\n    {\n      \"column\": \"workingday\",\n      \"properties\": {\n        \"dtype\": \"number\",\n        \"std\": 0.30187064490960136,\n        \"min\": -0.2530226996846281,\n        \"max\": 1.0,\n        \"num_unique_values\": 12,\n        \"samples\": [\n          -0.018796486567174062,\n          0.02432704578756158,\n          0.012484963237440971\n        ],\n        \"semantic_type\": \"\",\n        \"description\": \"\"\n      }\n    },\n    {\n      \"column\": \"weathersit\",\n      \"properties\": {\n        \"dtype\": \"number\",\n        \"std\": 0.33096877699979366,\n        \"min\": -0.12158335420323249,\n        \"max\": 1.0,\n        \"num_unique_values\": 12,\n        \"samples\": [\n          0.03951105859346708,\n          0.5910445992972738,\n          0.019211028056670312\n        ],\n        \"semantic_type\": \"\",\n        \"description\": \"\"\n      }\n    },\n    {\n      \"column\": \"temp\",\n      \"properties\": {\n        \"dtype\": \"number\",\n        \"std\": 0.4029601772287657,\n        \"min\": -0.15794412041210718,\n        \"max\": 1.0,\n        \"num_unique_values\": 12,\n        \"samples\": [\n          -0.15794412041209963,\n          0.12696293902718844,\n          0.33431485639909386\n        ],\n        \"semantic_type\": \"\",\n        \"description\": \"\"\n      }\n    },\n    {\n      \"column\": \"atemp\",\n      \"properties\": {\n        \"dtype\": \"number\",\n        \"std\": 0.40794675945737163,\n        \"min\": -0.1836429666908312,\n        \"max\": 1.0,\n        \"num_unique_values\": 12,\n        \"samples\": [\n          -0.18364296669082858,\n          0.13998805994655938,\n          0.342875612707532\n        ],\n        \"semantic_type\": \"\",\n        \"description\": \"\"\n      }\n    },\n    {\n      \"column\": \"hum\",\n      \"properties\": {\n        \"dtype\": \"number\",\n        \"std\": 0.355911130420785,\n        \"min\": -0.24848909864371424,\n        \"max\": 1.0,\n        \"num_unique_values\": 12,\n        \"samples\": [\n          -0.24848909864371424,\n          1.0,\n          0.20544476453974048\n        ],\n        \"semantic_type\": \"\",\n        \"description\": \"\"\n      }\n    },\n    {\n      \"column\": \"windspeed(mph)\",\n      \"properties\": {\n        \"dtype\": \"number\",\n        \"std\": 0.44049829924762807,\n        \"min\": -0.24848909864371424,\n        \"max\": 1.0,\n        \"num_unique_values\": 12,\n        \"samples\": [\n          1.0,\n          -0.24848909864371424,\n          -0.2290463373468453\n        ],\n        \"semantic_type\": \"\",\n        \"description\": \"\"\n      }\n    },\n    {\n      \"column\": \"windspeed(ms)\",\n      \"properties\": {\n        \"dtype\": \"number\",\n        \"std\": 0.4404982992476393,\n        \"min\": -0.24848909864368154,\n        \"max\": 1.0,\n        \"num_unique_values\": 12,\n        \"samples\": [\n          0.9999999999999993,\n          -0.24848909864368154,\n          -0.22904633734689742\n        ],\n        \"semantic_type\": \"\",\n        \"description\": \"\"\n      }\n    }\n  ]\n}"
            }
          },
          "metadata": {},
          "execution_count": 37
        }
      ]
    },
    {
      "cell_type": "code",
      "source": [
        "df[df_features].corrwith(df[df_target])"
      ],
      "metadata": {
        "colab": {
          "base_uri": "https://localhost:8080/",
          "height": 460
        },
        "id": "92yD-Va_wZ5I",
        "outputId": "e545ea98-a672-4487-8a7d-400a2b05e22d"
      },
      "execution_count": null,
      "outputs": [
        {
          "output_type": "execute_result",
          "data": {
            "text/plain": [
              "season            0.406100\n",
              "yr                0.566710\n",
              "mnth              0.279977\n",
              "holiday          -0.068348\n",
              "weekday           0.067443\n",
              "workingday        0.061156\n",
              "weathersit       -0.297391\n",
              "temp              0.627494\n",
              "atemp             0.631066\n",
              "hum              -0.100659\n",
              "windspeed(mph)   -0.234545\n",
              "windspeed(ms)    -0.234545\n",
              "dtype: float64"
            ],
            "text/html": [
              "<div>\n",
              "<style scoped>\n",
              "    .dataframe tbody tr th:only-of-type {\n",
              "        vertical-align: middle;\n",
              "    }\n",
              "\n",
              "    .dataframe tbody tr th {\n",
              "        vertical-align: top;\n",
              "    }\n",
              "\n",
              "    .dataframe thead th {\n",
              "        text-align: right;\n",
              "    }\n",
              "</style>\n",
              "<table border=\"1\" class=\"dataframe\">\n",
              "  <thead>\n",
              "    <tr style=\"text-align: right;\">\n",
              "      <th></th>\n",
              "      <th>0</th>\n",
              "    </tr>\n",
              "  </thead>\n",
              "  <tbody>\n",
              "    <tr>\n",
              "      <th>season</th>\n",
              "      <td>0.406100</td>\n",
              "    </tr>\n",
              "    <tr>\n",
              "      <th>yr</th>\n",
              "      <td>0.566710</td>\n",
              "    </tr>\n",
              "    <tr>\n",
              "      <th>mnth</th>\n",
              "      <td>0.279977</td>\n",
              "    </tr>\n",
              "    <tr>\n",
              "      <th>holiday</th>\n",
              "      <td>-0.068348</td>\n",
              "    </tr>\n",
              "    <tr>\n",
              "      <th>weekday</th>\n",
              "      <td>0.067443</td>\n",
              "    </tr>\n",
              "    <tr>\n",
              "      <th>workingday</th>\n",
              "      <td>0.061156</td>\n",
              "    </tr>\n",
              "    <tr>\n",
              "      <th>weathersit</th>\n",
              "      <td>-0.297391</td>\n",
              "    </tr>\n",
              "    <tr>\n",
              "      <th>temp</th>\n",
              "      <td>0.627494</td>\n",
              "    </tr>\n",
              "    <tr>\n",
              "      <th>atemp</th>\n",
              "      <td>0.631066</td>\n",
              "    </tr>\n",
              "    <tr>\n",
              "      <th>hum</th>\n",
              "      <td>-0.100659</td>\n",
              "    </tr>\n",
              "    <tr>\n",
              "      <th>windspeed(mph)</th>\n",
              "      <td>-0.234545</td>\n",
              "    </tr>\n",
              "    <tr>\n",
              "      <th>windspeed(ms)</th>\n",
              "      <td>-0.234545</td>\n",
              "    </tr>\n",
              "  </tbody>\n",
              "</table>\n",
              "</div><br><label><b>dtype:</b> float64</label>"
            ]
          },
          "metadata": {},
          "execution_count": 38
        }
      ]
    },
    {
      "cell_type": "markdown",
      "metadata": {
        "id": "ovV_DO35F0cl"
      },
      "source": [
        "У вибірці є ознаки, що корелюють із цільовою, а отже, завдання можна розв'язувати лінійними методами."
      ]
    },
    {
      "cell_type": "markdown",
      "metadata": {
        "id": "r0dre43ZF0cl"
      },
      "source": [
        "За графіками видно, що деякі ознаки схожі між собою. Тому давайте також порахуємо кореляції між речовими ознаками."
      ]
    },
    {
      "cell_type": "markdown",
      "metadata": {
        "id": "Wga1WJDkF0cl"
      },
      "source": [
        "## Завдання 3\n",
        "\n",
        "Порахуйте попарні кореляції між ознаками temp, atemp, hum, windspeed(mph), windspeed(ms) і cnt\n",
        "за допомогою методу corr:"
      ]
    },
    {
      "cell_type": "code",
      "metadata": {
        "id": "1rSOhITgF0cm",
        "colab": {
          "base_uri": "https://localhost:8080/"
        },
        "outputId": "1affae40-cdae-43c0-ddf5-a4e4535ca8fe"
      },
      "source": [
        "pair_corr =[\"temp\", \"atemp\", \"hum\",\"windspeed(mph)\", \"windspeed(ms)\"]\n",
        "for corr in pair_corr:\n",
        "  print()\n",
        "  print(df[[corr,\"cnt\"]].corr())"
      ],
      "execution_count": null,
      "outputs": [
        {
          "output_type": "stream",
          "name": "stdout",
          "text": [
            "\n",
            "          temp       cnt\n",
            "temp  1.000000  0.627494\n",
            "cnt   0.627494  1.000000\n",
            "\n",
            "          atemp       cnt\n",
            "atemp  1.000000  0.631066\n",
            "cnt    0.631066  1.000000\n",
            "\n",
            "          hum       cnt\n",
            "hum  1.000000 -0.100659\n",
            "cnt -0.100659  1.000000\n",
            "\n",
            "                windspeed(mph)       cnt\n",
            "windspeed(mph)        1.000000 -0.234545\n",
            "cnt                  -0.234545  1.000000\n",
            "\n",
            "               windspeed(ms)       cnt\n",
            "windspeed(ms)       1.000000 -0.234545\n",
            "cnt                -0.234545  1.000000\n"
          ]
        }
      ]
    },
    {
      "cell_type": "markdown",
      "metadata": {
        "id": "Ooc4syvaF0cm"
      },
      "source": [
        "На діагоналях, як і належить, стоять одиниці. Однак у матриці є ще дві пари сильно корелюючих стовпців: temp і atemp (корелюють за своєю природою) і два windspeed (тому що це просто переведення одних одиниць в інші). Далі ми побачимо, що цей факт негативно позначається на навчанні лінійної моделі."
      ]
    },
    {
      "cell_type": "markdown",
      "metadata": {
        "id": "t-w2-4DbF0cm"
      },
      "source": [
        "Насамкінець подивимося середні ознак (метод mean), щоб оцінити масштаб ознак і частки 1 у бінарних ознак."
      ]
    },
    {
      "cell_type": "markdown",
      "metadata": {
        "id": "Ml3jlosnF0cm"
      },
      "source": [
        "## Завдання 4\n",
        "\n",
        "Виведіть середні ознак."
      ]
    },
    {
      "cell_type": "code",
      "metadata": {
        "id": "zg7yBN9YF0cn",
        "colab": {
          "base_uri": "https://localhost:8080/",
          "height": 492
        },
        "outputId": "a576a8e2-f277-4303-b2eb-d4b07e4417ec"
      },
      "source": [
        "df.mean()"
      ],
      "execution_count": null,
      "outputs": [
        {
          "output_type": "execute_result",
          "data": {
            "text/plain": [
              "season               2.496580\n",
              "yr                   0.500684\n",
              "mnth                 6.519836\n",
              "holiday              0.028728\n",
              "weekday              2.997264\n",
              "workingday           0.683995\n",
              "weathersit           1.395349\n",
              "temp                20.310776\n",
              "atemp               23.717699\n",
              "hum                 62.789406\n",
              "windspeed(mph)      12.762576\n",
              "windspeed(ms)        5.705220\n",
              "cnt               4504.348837\n",
              "dtype: float64"
            ],
            "text/html": [
              "<div>\n",
              "<style scoped>\n",
              "    .dataframe tbody tr th:only-of-type {\n",
              "        vertical-align: middle;\n",
              "    }\n",
              "\n",
              "    .dataframe tbody tr th {\n",
              "        vertical-align: top;\n",
              "    }\n",
              "\n",
              "    .dataframe thead th {\n",
              "        text-align: right;\n",
              "    }\n",
              "</style>\n",
              "<table border=\"1\" class=\"dataframe\">\n",
              "  <thead>\n",
              "    <tr style=\"text-align: right;\">\n",
              "      <th></th>\n",
              "      <th>0</th>\n",
              "    </tr>\n",
              "  </thead>\n",
              "  <tbody>\n",
              "    <tr>\n",
              "      <th>season</th>\n",
              "      <td>2.496580</td>\n",
              "    </tr>\n",
              "    <tr>\n",
              "      <th>yr</th>\n",
              "      <td>0.500684</td>\n",
              "    </tr>\n",
              "    <tr>\n",
              "      <th>mnth</th>\n",
              "      <td>6.519836</td>\n",
              "    </tr>\n",
              "    <tr>\n",
              "      <th>holiday</th>\n",
              "      <td>0.028728</td>\n",
              "    </tr>\n",
              "    <tr>\n",
              "      <th>weekday</th>\n",
              "      <td>2.997264</td>\n",
              "    </tr>\n",
              "    <tr>\n",
              "      <th>workingday</th>\n",
              "      <td>0.683995</td>\n",
              "    </tr>\n",
              "    <tr>\n",
              "      <th>weathersit</th>\n",
              "      <td>1.395349</td>\n",
              "    </tr>\n",
              "    <tr>\n",
              "      <th>temp</th>\n",
              "      <td>20.310776</td>\n",
              "    </tr>\n",
              "    <tr>\n",
              "      <th>atemp</th>\n",
              "      <td>23.717699</td>\n",
              "    </tr>\n",
              "    <tr>\n",
              "      <th>hum</th>\n",
              "      <td>62.789406</td>\n",
              "    </tr>\n",
              "    <tr>\n",
              "      <th>windspeed(mph)</th>\n",
              "      <td>12.762576</td>\n",
              "    </tr>\n",
              "    <tr>\n",
              "      <th>windspeed(ms)</th>\n",
              "      <td>5.705220</td>\n",
              "    </tr>\n",
              "    <tr>\n",
              "      <th>cnt</th>\n",
              "      <td>4504.348837</td>\n",
              "    </tr>\n",
              "  </tbody>\n",
              "</table>\n",
              "</div><br><label><b>dtype:</b> float64</label>"
            ]
          },
          "metadata": {},
          "execution_count": 40
        }
      ]
    },
    {
      "cell_type": "markdown",
      "metadata": {
        "id": "2i9pGW4TF0cn"
      },
      "source": [
        "Ознаки мають різний масштаб, отже, для подальшої роботи нам краще нормувати матрицю об'єкти-ознаки."
      ]
    },
    {
      "cell_type": "markdown",
      "metadata": {
        "id": "-RTwV3e_F0cn"
      },
      "source": [
        "### Проблема перша: колінеарні ознаки"
      ]
    },
    {
      "cell_type": "markdown",
      "metadata": {
        "id": "SSmpjxmrF0co"
      },
      "source": [
        "Отже, у наших даних одна ознака дублює іншу, і є ще дві дуже схожі. Звичайно, ми могли б одразу видалити дублікати, але давайте подивимося, як відбувалося б навчання моделі, якби ми не помітили цю проблему.\n",
        "\n",
        "Для початку проведемо масштабування, або стандартизацію ознак: з кожної ознаки віднімемо її середнє і поділимо на стандартне відхилення. Це можна зробити за допомогою методу scale.\n",
        "\n",
        "Крім того, необхідно перемішати вибірку, це буде потрібно для крос-валідації."
      ]
    },
    {
      "cell_type": "code",
      "metadata": {
        "id": "jkGjoC9QF0co"
      },
      "source": [
        "from sklearn.preprocessing import scale\n",
        "from sklearn.utils import shuffle"
      ],
      "execution_count": null,
      "outputs": []
    },
    {
      "cell_type": "code",
      "metadata": {
        "id": "9JnmTmeKF0co"
      },
      "source": [
        "df_shuffled = shuffle(df, random_state=42)\n",
        "X = scale(df_shuffled[df_shuffled.columns[:-1]])\n",
        "y = df_shuffled[\"cnt\"]"
      ],
      "execution_count": null,
      "outputs": []
    },
    {
      "cell_type": "code",
      "source": [
        "print(f\"{X.max()=}\")\n",
        "print(f\"{X.min()=}\")\n",
        "print(f\"{X[0].max()=}\")\n",
        "print(f\"{X[0].min()=}\")"
      ],
      "metadata": {
        "colab": {
          "base_uri": "https://localhost:8080/"
        },
        "id": "CsZWzcrBwqN1",
        "outputId": "6d859296-3eff-41c1-ffd3-f623ceaa791f"
      },
      "execution_count": null,
      "outputs": [
        {
          "output_type": "stream",
          "name": "stdout",
          "text": [
            "X.max()=5.814595756329395\n",
            "X.min()=-4.411486147280981\n",
            "X[0].max()=1.5886601861579452\n",
            "X[0].min()=-0.7260481545646825\n"
          ]
        }
      ]
    },
    {
      "cell_type": "markdown",
      "metadata": {
        "id": "wEvKSbrFF0co"
      },
      "source": [
        "Давайте навчимо лінійну регресію на наших даних і подивимося на ваги ознак."
      ]
    },
    {
      "cell_type": "code",
      "metadata": {
        "id": "Q9DAkdS1F0cp"
      },
      "source": [
        "from sklearn.linear_model import LinearRegression"
      ],
      "execution_count": null,
      "outputs": []
    },
    {
      "cell_type": "markdown",
      "metadata": {
        "id": "-8Cc-xhqF0cp"
      },
      "source": [
        "## Завдання 5\n",
        "\n",
        "Створіть об'єкт лінійного регресора, навчіть його на всіх даних і виведіть ваги моделі (ваги зберігаються у змінній `coef_` класу регресора). Можна виводити пари (назва ознаки, вага), скориставшись функцією `zip`, вбудованою в мову python. Назви ознак зберігаються у змінній `df.columns`.\n"
      ]
    },
    {
      "cell_type": "code",
      "metadata": {
        "id": "EYFEkeI0F0cp",
        "colab": {
          "base_uri": "https://localhost:8080/",
          "height": 75
        },
        "outputId": "293052b0-b6ad-466b-d8cd-9cc16195c258"
      },
      "source": [
        "linear_reg = LinearRegression()\n",
        "linear_reg.fit(X, y)"
      ],
      "execution_count": null,
      "outputs": [
        {
          "output_type": "execute_result",
          "data": {
            "text/plain": [
              "LinearRegression()"
            ],
            "text/html": [
              "<style>#sk-container-id-2 {color: black;}#sk-container-id-2 pre{padding: 0;}#sk-container-id-2 div.sk-toggleable {background-color: white;}#sk-container-id-2 label.sk-toggleable__label {cursor: pointer;display: block;width: 100%;margin-bottom: 0;padding: 0.3em;box-sizing: border-box;text-align: center;}#sk-container-id-2 label.sk-toggleable__label-arrow:before {content: \"▸\";float: left;margin-right: 0.25em;color: #696969;}#sk-container-id-2 label.sk-toggleable__label-arrow:hover:before {color: black;}#sk-container-id-2 div.sk-estimator:hover label.sk-toggleable__label-arrow:before {color: black;}#sk-container-id-2 div.sk-toggleable__content {max-height: 0;max-width: 0;overflow: hidden;text-align: left;background-color: #f0f8ff;}#sk-container-id-2 div.sk-toggleable__content pre {margin: 0.2em;color: black;border-radius: 0.25em;background-color: #f0f8ff;}#sk-container-id-2 input.sk-toggleable__control:checked~div.sk-toggleable__content {max-height: 200px;max-width: 100%;overflow: auto;}#sk-container-id-2 input.sk-toggleable__control:checked~label.sk-toggleable__label-arrow:before {content: \"▾\";}#sk-container-id-2 div.sk-estimator input.sk-toggleable__control:checked~label.sk-toggleable__label {background-color: #d4ebff;}#sk-container-id-2 div.sk-label input.sk-toggleable__control:checked~label.sk-toggleable__label {background-color: #d4ebff;}#sk-container-id-2 input.sk-hidden--visually {border: 0;clip: rect(1px 1px 1px 1px);clip: rect(1px, 1px, 1px, 1px);height: 1px;margin: -1px;overflow: hidden;padding: 0;position: absolute;width: 1px;}#sk-container-id-2 div.sk-estimator {font-family: monospace;background-color: #f0f8ff;border: 1px dotted black;border-radius: 0.25em;box-sizing: border-box;margin-bottom: 0.5em;}#sk-container-id-2 div.sk-estimator:hover {background-color: #d4ebff;}#sk-container-id-2 div.sk-parallel-item::after {content: \"\";width: 100%;border-bottom: 1px solid gray;flex-grow: 1;}#sk-container-id-2 div.sk-label:hover label.sk-toggleable__label {background-color: #d4ebff;}#sk-container-id-2 div.sk-serial::before {content: \"\";position: absolute;border-left: 1px solid gray;box-sizing: border-box;top: 0;bottom: 0;left: 50%;z-index: 0;}#sk-container-id-2 div.sk-serial {display: flex;flex-direction: column;align-items: center;background-color: white;padding-right: 0.2em;padding-left: 0.2em;position: relative;}#sk-container-id-2 div.sk-item {position: relative;z-index: 1;}#sk-container-id-2 div.sk-parallel {display: flex;align-items: stretch;justify-content: center;background-color: white;position: relative;}#sk-container-id-2 div.sk-item::before, #sk-container-id-2 div.sk-parallel-item::before {content: \"\";position: absolute;border-left: 1px solid gray;box-sizing: border-box;top: 0;bottom: 0;left: 50%;z-index: -1;}#sk-container-id-2 div.sk-parallel-item {display: flex;flex-direction: column;z-index: 1;position: relative;background-color: white;}#sk-container-id-2 div.sk-parallel-item:first-child::after {align-self: flex-end;width: 50%;}#sk-container-id-2 div.sk-parallel-item:last-child::after {align-self: flex-start;width: 50%;}#sk-container-id-2 div.sk-parallel-item:only-child::after {width: 0;}#sk-container-id-2 div.sk-dashed-wrapped {border: 1px dashed gray;margin: 0 0.4em 0.5em 0.4em;box-sizing: border-box;padding-bottom: 0.4em;background-color: white;}#sk-container-id-2 div.sk-label label {font-family: monospace;font-weight: bold;display: inline-block;line-height: 1.2em;}#sk-container-id-2 div.sk-label-container {text-align: center;}#sk-container-id-2 div.sk-container {/* jupyter's `normalize.less` sets `[hidden] { display: none; }` but bootstrap.min.css set `[hidden] { display: none !important; }` so we also need the `!important` here to be able to override the default hidden behavior on the sphinx rendered scikit-learn.org. See: https://github.com/scikit-learn/scikit-learn/issues/21755 */display: inline-block !important;position: relative;}#sk-container-id-2 div.sk-text-repr-fallback {display: none;}</style><div id=\"sk-container-id-2\" class=\"sk-top-container\"><div class=\"sk-text-repr-fallback\"><pre>LinearRegression()</pre><b>In a Jupyter environment, please rerun this cell to show the HTML representation or trust the notebook. <br />On GitHub, the HTML representation is unable to render, please try loading this page with nbviewer.org.</b></div><div class=\"sk-container\" hidden><div class=\"sk-item\"><div class=\"sk-estimator sk-toggleable\"><input class=\"sk-toggleable__control sk-hidden--visually\" id=\"sk-estimator-id-2\" type=\"checkbox\" checked><label for=\"sk-estimator-id-2\" class=\"sk-toggleable__label sk-toggleable__label-arrow\">LinearRegression</label><div class=\"sk-toggleable__content\"><pre>LinearRegression()</pre></div></div></div></div></div>"
            ]
          },
          "metadata": {},
          "execution_count": 45
        }
      ]
    },
    {
      "cell_type": "code",
      "source": [
        "for f,w in zip(df.columns, linear_reg.coef_):\n",
        "  print(f\"{f}: {w}\")"
      ],
      "metadata": {
        "colab": {
          "base_uri": "https://localhost:8080/"
        },
        "id": "ahFY5bp7w4gC",
        "outputId": "bf5a002a-450d-4f39-c4dc-fc3ab27a3820"
      },
      "execution_count": null,
      "outputs": [
        {
          "output_type": "stream",
          "name": "stdout",
          "text": [
            "season: 570.8637960129914\n",
            "yr: 1021.9653779400622\n",
            "mnth: -141.3017451148728\n",
            "holiday: -86.7593446245368\n",
            "weekday: 137.22506441350538\n",
            "workingday: 56.391881775973005\n",
            "weathersit: -330.2264620440312\n",
            "temp: 367.48373260182126\n",
            "atemp: 585.5493861188597\n",
            "hum: -145.61430569885857\n",
            "windspeed(mph): 12457138390688.885\n",
            "windspeed(ms): -12457138390887.346\n"
          ]
        }
      ]
    },
    {
      "cell_type": "code",
      "source": [
        "linear_reg.intercept_"
      ],
      "metadata": {
        "colab": {
          "base_uri": "https://localhost:8080/"
        },
        "id": "GUwK05_cw8Bi",
        "outputId": "021c5263-cefb-489f-d5f2-308c1870b0fa"
      },
      "execution_count": null,
      "outputs": [
        {
          "output_type": "execute_result",
          "data": {
            "text/plain": [
              "4504.354528214392"
            ]
          },
          "metadata": {},
          "execution_count": 47
        }
      ]
    },
    {
      "cell_type": "markdown",
      "metadata": {
        "id": "EXHziiV-F0cp"
      },
      "source": [
        "Ми бачимо, що ваги при лінійно-залежних ознаках за модулем значно більші, ніж при інших ознаках. Щоб зрозуміти, чому так сталося, згадаємо аналітичну формулу, за якою обчислюються ваги лінійної моделі в методі найменших квадратів:\n",
        "\n",
        "$$w = (X^TX)^{-1} X^T y$$\n",
        "\n",
        "Якщо в $X$ є колінеарні (лінійно-залежні) стовпці, матриця $X^TX$ стає виродженою, і формула перестає бути коректною. Чим більш залежні ознаки, тим менший визначник цієї матриці й тим гірша апроксимація $Xw \\approx y$. Таку ситуацію називають _проблемою мультиколінеарності_."
      ]
    },
    {
      "cell_type": "markdown",
      "metadata": {
        "id": "PIX0I5LQF0cq"
      },
      "source": [
        "З парою (temp, atemp) трохи менше корелюючих змінних такого не сталося, однак на практиці завжди варто уважно стежити за коефіцієнтами при схожих ознаках."
      ]
    },
    {
      "cell_type": "markdown",
      "metadata": {
        "id": "vkXwN1tKF0cq"
      },
      "source": [
        "Для того щоб розв'язати проблему мультиколінеарності, потрібно скористатися регуляризатором. До оптимізуючого функціоналу додають $L_1$ або $L_2$ норму ваг, помножену на коефіцієнт регуляризації $\\alpha$. У першому випадку метод називається Lasso, а у другому — Ridge."
      ]
    },
    {
      "cell_type": "markdown",
      "metadata": {
        "id": "FT2oVbm1F0cq"
      },
      "source": [
        "### Завдання 6\n",
        "Давайте спробуємо навчити лінійні моделі з $L_1$ і $L_2$-регуляризацією, а далі порівняємо їхні ваги. Навчіть регресори Ridge і Lasso з параметрами за замовчуванням і переконайтеся, що проблема з вагами вирішилась."
      ]
    },
    {
      "cell_type": "markdown",
      "metadata": {
        "id": "Rw0SDNemF0cq"
      },
      "source": [
        "Навчіть лінійну модель з $L_1$-регуляризацією (клас Lasso) і виведіть ваги."
      ]
    },
    {
      "cell_type": "code",
      "metadata": {
        "id": "A2U5BrZ9F0cr",
        "outputId": "01c3a71c-4c5f-414f-bf7c-21ffe1789787",
        "colab": {
          "base_uri": "https://localhost:8080/"
        }
      },
      "source": [
        "from sklearn import model_selection, datasets, linear_model, metrics\n",
        "SEED = 12\n",
        "\n",
        "lasso_regressor = linear_model.Lasso(random_state=SEED)\n",
        "lasso_regressor.fit(X,y)\n",
        "print(f\"{lasso_regressor.coef_.shape=}\")\n",
        "print(f\"{lasso_regressor.score(X, y)=}\")\n",
        "print(\"\\nLasso weigths:\\n\")\n",
        "for f, w in zip(df.columns, lasso_regressor.coef_):\n",
        "  # wc = \", \".join(map(str,w.round(4)))\n",
        "  # wc = np.array2string(w, precision=4, separator=',',suppress_small=True)\n",
        "  print(f\"{f:15}: {w.round(4)}\")\n",
        "print(f\"\\n{lasso_regressor.intercept_=}\")"
      ],
      "execution_count": null,
      "outputs": [
        {
          "output_type": "stream",
          "name": "stdout",
          "text": [
            "lasso_regressor.coef_.shape=(12,)\n",
            "lasso_regressor.score(X, y)=0.800239476118262\n",
            "\n",
            "Lasso weigths:\n",
            "\n",
            "season         : 560.2416\n",
            "yr             : 1019.4635\n",
            "mnth           : -128.7306\n",
            "holiday        : -86.1528\n",
            "weekday        : 137.3479\n",
            "workingday     : 55.2124\n",
            "weathersit     : -332.3699\n",
            "temp           : 376.3632\n",
            "atemp          : 576.5308\n",
            "hum            : -144.1292\n",
            "windspeed(mph) : -197.1397\n",
            "windspeed(ms)  : -0.0\n",
            "\n",
            "lasso_regressor.intercept_=4504.3488372093025\n"
          ]
        }
      ]
    },
    {
      "cell_type": "markdown",
      "metadata": {
        "id": "h7MpUkWyF0cr"
      },
      "source": [
        "Навчіть лінійну модель з $L_2$-регуляризацією (клас Ridge) і виведіть ваги."
      ]
    },
    {
      "cell_type": "code",
      "metadata": {
        "id": "u4BnooUuF0cr",
        "outputId": "29a63fb4-97ef-4ab3-d61b-551680516d9e",
        "colab": {
          "base_uri": "https://localhost:8080/"
        }
      },
      "source": [
        "ridge_regressor = linear_model.Ridge(random_state=SEED)\n",
        "ridge_regressor.fit(X, y)\n",
        "\n",
        "print(f\"{ridge_regressor.coef_.shape=}\")\n",
        "print(f\"{ridge_regressor.score(X, y)=}\")\n",
        "print(\"\\nRidge weigths:\\n\")\n",
        "for f, w in zip(df.columns, ridge_regressor.coef_):\n",
        "  print(f\"{f:15}: {w.round(4)}\")\n",
        "print(f\"\\n{ridge_regressor.intercept_=}\")"
      ],
      "execution_count": null,
      "outputs": [
        {
          "output_type": "stream",
          "name": "stdout",
          "text": [
            "ridge_regressor.coef_.shape=(12,)\n",
            "ridge_regressor.score(X, y)=0.8002417905136303\n",
            "\n",
            "Ridge weigths:\n",
            "\n",
            "season         : 563.0646\n",
            "yr             : 1018.9484\n",
            "mnth           : -131.8733\n",
            "holiday        : -86.7461\n",
            "weekday        : 138.0051\n",
            "workingday     : 55.9031\n",
            "weathersit     : -332.3498\n",
            "temp           : 386.4579\n",
            "atemp          : 566.347\n",
            "hum            : -145.0713\n",
            "windspeed(mph) : -99.2594\n",
            "windspeed(ms)  : -99.2594\n",
            "\n",
            "ridge_regressor.intercept_=4504.3488372093025\n"
          ]
        }
      ]
    },
    {
      "cell_type": "markdown",
      "metadata": {
        "id": "OmpSEJ3wF0cr"
      },
      "source": [
        "### Завдання 7\n",
        "\n",
        "На відміну від $L_2$-регуляризації, $L_1$ обнуляє ваги при деяких ознаках. Давайте поспостерігаємо, як змінюються ваги зі збільшенням коефіцієнта регуляризації $\\alpha$."
      ]
    },
    {
      "cell_type": "markdown",
      "metadata": {
        "id": "Ho9_PTbHF0cs"
      },
      "source": [
        "Для кожного значення коефіцієнта з `alphas` навчіть регресор `Lasso` і запишіть ваги у список `coefs_lasso`, а потім навчіть `Ridge` і запишіть ваги у список`coefs_ridge`. Конвертуйте отримані списки в `np.array`."
      ]
    },
    {
      "cell_type": "code",
      "metadata": {
        "id": "HiizakIyF0cs",
        "colab": {
          "base_uri": "https://localhost:8080/"
        },
        "outputId": "d4816dad-807c-45d0-c6be-2d6d68dc1412"
      },
      "source": [
        "alphas = np.arange(1, 500, 50)\n",
        "\n",
        "coefs_lasso = []\n",
        "coefs_ridge = []\n",
        "\n",
        "for alpha in alphas:\n",
        "    lasso_regressor.set_params(alpha=alpha)\n",
        "    lasso_regressor.fit(X,y)\n",
        "    coefs_lasso.append(lasso_regressor.coef_)\n",
        "    print(f\"\\n{alpha=}, {coefs_lasso[-1][-1].round(6)=}\")\n",
        "\n",
        "    ridge_regressor.set_params(alpha=alpha)\n",
        "    ridge_regressor.fit(X,y)\n",
        "    coefs_ridge.append(ridge_regressor.coef_)\n",
        "    print(f\"{alpha=}, {coefs_ridge[-1][-1].round(6)=}\")\n",
        "\n",
        "# Конвертуйте отримані списки в np.array.\n",
        "coefs_lasso = np.array(coefs_lasso)\n",
        "coefs_ridge = np.array(coefs_ridge)\n",
        "\n",
        "print(f\"{coefs_lasso.shape=}\")\n",
        "print(f\"{coefs_ridge.shape=}\")"
      ],
      "execution_count": null,
      "outputs": [
        {
          "output_type": "stream",
          "name": "stdout",
          "text": [
            "\n",
            "alpha=1, coefs_lasso[-1][-1].round(6)=-0.0\n",
            "alpha=1, coefs_ridge[-1][-1].round(6)=-99.259441\n",
            "\n",
            "alpha=51, coefs_lasso[-1][-1].round(6)=-0.0\n",
            "alpha=51, coefs_ridge[-1][-1].round(6)=-101.627315\n",
            "\n",
            "alpha=101, coefs_lasso[-1][-1].round(6)=-0.0\n",
            "alpha=101, coefs_ridge[-1][-1].round(6)=-102.101671\n",
            "\n",
            "alpha=151, coefs_lasso[-1][-1].round(6)=-0.0\n",
            "alpha=151, coefs_ridge[-1][-1].round(6)=-102.005376\n",
            "\n",
            "alpha=201, coefs_lasso[-1][-1].round(6)=-0.0\n",
            "alpha=201, coefs_ridge[-1][-1].round(6)=-101.586385\n",
            "\n",
            "alpha=251, coefs_lasso[-1][-1].round(6)=-0.0\n",
            "alpha=251, coefs_ridge[-1][-1].round(6)=-100.964711\n",
            "\n",
            "alpha=301, coefs_lasso[-1][-1].round(6)=-0.0\n",
            "alpha=301, coefs_ridge[-1][-1].round(6)=-100.20862\n",
            "\n",
            "alpha=351, coefs_lasso[-1][-1].round(6)=-0.0\n",
            "alpha=351, coefs_ridge[-1][-1].round(6)=-99.360661\n",
            "\n",
            "alpha=401, coefs_lasso[-1][-1].round(6)=-0.0\n",
            "alpha=401, coefs_ridge[-1][-1].round(6)=-98.449064\n",
            "\n",
            "alpha=451, coefs_lasso[-1][-1].round(6)=-0.0\n",
            "alpha=451, coefs_ridge[-1][-1].round(6)=-97.493434\n",
            "coefs_lasso.shape=(10, 12)\n",
            "coefs_ridge.shape=(10, 12)\n"
          ]
        }
      ]
    },
    {
      "cell_type": "markdown",
      "metadata": {
        "id": "vR3hawHAF0cs"
      },
      "source": [
        "Проаналізуйте динаміку ваг при збільшенні параметра регуляризації:"
      ]
    },
    {
      "cell_type": "code",
      "metadata": {
        "id": "rijH4f-VF0cs",
        "outputId": "b8ea35c3-cb6f-433c-bd58-4088ad4c94d9",
        "colab": {
          "base_uri": "https://localhost:8080/",
          "height": 957
        }
      },
      "source": [
        "plt.figure(figsize=(8, 5))\n",
        "\n",
        "for coef, feature in zip(coefs_lasso.T, df.columns):\n",
        "    plt.plot(alphas, coef, label=feature, color=np.random.rand(3))\n",
        "\n",
        "plt.legend(loc=\"upper right\", bbox_to_anchor=(1.4, 0.95))\n",
        "plt.xlabel(\"alpha\")\n",
        "plt.ylabel(\"feature weight\")\n",
        "plt.title(\"Lasso\")\n",
        "\n",
        "plt.figure(figsize=(8, 5))\n",
        "for coef, feature in zip(coefs_ridge.T, df.columns):\n",
        "    plt.plot(alphas, coef, label=feature, color=np.random.rand(3))\n",
        "\n",
        "plt.legend(loc=\"upper right\", bbox_to_anchor=(1.4, 0.95))\n",
        "plt.xlabel(\"alpha\")\n",
        "plt.ylabel(\"feature weight\")\n",
        "plt.title(\"Ridge\")\n",
        "\n",
        "plt.show()"
      ],
      "execution_count": null,
      "outputs": [
        {
          "output_type": "display_data",
          "data": {
            "text/plain": [
              "<Figure size 800x500 with 1 Axes>"
            ],
            "image/png": "[encoded data removed]"
          },
          "metadata": {}
        },
        {
          "output_type": "display_data",
          "data": {
            "text/plain": [
              "<Figure size 800x500 with 1 Axes>"
            ],
            "image/png": "[encoded data removed]"
          },
          "metadata": {}
        }
      ]
    },
    {
      "cell_type": "markdown",
      "metadata": {
        "id": "wDCadrLbF0cs"
      },
      "source": [
        "Проаналізуйте графіки та дайте відповіді на такі запитання.\n",
        "\n",
        "1. Який регуляризатор (Ridge або Lasso) агресивніше зменшує ваги при одному й тому самому alpha?\n",
        "1. Що станеться з вагами Lasso, якщо alpha зробити дуже великим? Поясніть, чому так відбувається.\n",
        "1. Чи можна стверджувати, що `Lasso` виключає одну з ознак `windspeed` при будь-якому значенні `alpha > 0`? А Ridge? Вважається, що регуляризатор виключає ознаку, якщо коефіцієнт при ньому менший $10^{-3}$.\n",
        "1. Який із регуляризаторів підійде для відбору неінформативних ознак?"
      ]
    },
    {
      "cell_type": "markdown",
      "source": [
        "1.Lasso\n",
        "2.Збильшуючи значення alpha ваги = 0\n",
        "3.Можна для Lasso. В свою чергу Ridge ваги все одно залишаються малимина відміну від повного вимкнення у Lasso.\n",
        "4.Для Lasso L1-регуляризацію за рахунок прирівнювання до 0."
      ],
      "metadata": {
        "id": "J5GaipR7BlaP"
      }
    },
    {
      "cell_type": "markdown",
      "metadata": {
        "id": "IEmB7CPtF0ct"
      },
      "source": [
        "### Завдання 8\n",
        "\n",
        "Далі будемо працювати з `Lasso`.\n",
        "\n",
        "Отже, ми бачимо, що при зміні alpha модель по-різному підбирає коефіцієнти ознак. Нам потрібно вибрати найкраще alpha.\n",
        "\n",
        "Для цього, по-перше, нам потрібна метрика якості. Будемо використовувати як метрику сам оптимізований функціонал методу найменших квадратів, тобто `Mean Square Error`.\n",
        "\n",
        "По-друге, потрібно зрозуміти, на яких даних цю метрику рахувати. Не можна вибирати `alpha` за значенням MSE на навчальній вибірці, тому що тоді ми не зможемо оцінити, як модель буде робити передбачення на нових для неї даних. Якщо ми виберемо одне розбиття вибірки на навчальну та тестову (це називається holdout), то налаштуємося на конкретні \"нові\" дані, і знову можемо перенавчитися. Тому будемо робити декілька розбиттів вибірки, на кожному пробувати різні значення alpha, а потім усереднювати MSE. Найзручніше робити такі розбиття крос-валідацією, тобто розділити вибірку на $K$ частин, і кожного разу брати одну з них як тестову, а з блоків, що залишилися, складати навчальну вибірку."
      ]
    },
    {
      "cell_type": "markdown",
      "metadata": {
        "id": "wyOFogflF0ct"
      },
      "source": [
        "Робити крос-валідацію для регресії в sklearn зовсім просто: для цього є спеціальний регресор, __LassoCV__, який бере на вхід список із alpha і для кожного з них обчислює MSE на крос-валідації. Після навчання (якщо залишити параметр cv=3 за замовчуванням) регресор буде містити змінну __mse\\_path\\___, матрицю розміру len(alpha) x k, k = 3 (число блоків у крос-валідації), що містить значення MSE на тесті для відповідних запусків. Крім того, у змінній alpha\\_ буде зберігатися вибране значення параметра регуляризації, а в coef\\_, традиційно, навчені ваги, що відповідають цьому alpha_.\n",
        "\n",
        "Зверніть увагу, що регресор може змінювати порядок, у якому він проходить по alphas; для зіставлення з матрицею MSE краще використовувати змінну регресора alphas_."
      ]
    },
    {
      "cell_type": "markdown",
      "metadata": {
        "id": "_aUw0GmkF0ct"
      },
      "source": [
        "Навчіть регресор `LassoCV` на всіх параметрах регуляризації з alpha. Побудуйте графік _усередненого_ за рядками `MSE` в залежності від `alpha` (використовуйте для цього функцію `create_plot`).\n",
        "\n",
        "Виведіть вибране `alpha`, а також пари \"ознака-коефіцієнт\" для навченого вектора коефіцієнтів."
      ]
    },
    {
      "cell_type": "code",
      "metadata": {
        "id": "L5MVKdVPF0cu"
      },
      "source": [
        "def create_plot(data, title, xlabel, ylabel, figsize=None):\n",
        "    size = figsize or (15, 5)\n",
        "    plt.figure(figsize=size)\n",
        "\n",
        "    x = map(lambda e: e[0], data)\n",
        "    y = map(lambda e: e[1], data)\n",
        "    plt.plot(x, y)\n",
        "\n",
        "    plt.title(title)\n",
        "    plt.xlabel(xlabel)\n",
        "    plt.ylabel(ylabel)\n",
        "\n",
        "    plt.grid()\n",
        "    plt.show()"
      ],
      "execution_count": null,
      "outputs": []
    },
    {
      "cell_type": "code",
      "metadata": {
        "id": "lYIKXzG5F0cu",
        "outputId": "fa69ee80-f46a-45e8-ec35-0d5fe3a8efe3",
        "colab": {
          "base_uri": "https://localhost:8080/",
          "height": 738
        }
      },
      "source": [
        "from sklearn.linear_model import LassoCV\n",
        "\n",
        "import numpy as np\n",
        "import matplotlib.pyplot as plt\n",
        "from sklearn.linear_model import LassoCV\n",
        "\n",
        "# Пример данных (замените на ваши реальные данные)\n",
        "# X и y - это ваши данные для обучения\n",
        "# SEED - это ваш seed для генератора случайных чисел\n",
        "\n",
        "# Параметры\n",
        "alphas = np.arange(1, 100, 5)\n",
        "#SEED = 12  # Замените на ваш seed\n",
        "\n",
        "# Создание и обучение модели\n",
        "regressor = LassoCV(random_state=SEED, alphas=alphas, cv=3)\n",
        "regressor.fit(X, y)\n",
        "\n",
        "# Вывод информации о модели\n",
        "print(f\"{regressor.coef_.shape=}\")\n",
        "print(f\"{regressor.alphas.shape=}\")\n",
        "print(f\"{regressor.mse_path_.shape=}\")\n",
        "print(f\"{regressor.alphas_=}\")\n",
        "\n",
        "# Вычисление средних значений MSE\n",
        "mse_values = np.mean(regressor.mse_path_, axis=1)\n",
        "print(f\"{mse_values=}\")\n",
        "\n",
        "# Подготовка данных для построения графика\n",
        "alphas_ = regressor.alphas_\n",
        "data = np.vstack((alphas_, mse_values)).T  # Транспонируем для удобства\n",
        "\n",
        "# Функция для построения графика\n",
        "def create_plot(alphas, mses, title, xlabel, ylabel):\n",
        "    plt.figure(figsize=(10, 6))\n",
        "    plt.plot(alphas, mses, marker='o', linestyle='-', color='b')\n",
        "    plt.title(title)\n",
        "    plt.xlabel(xlabel)\n",
        "    plt.ylabel(ylabel)\n",
        "    plt.grid(True)\n",
        "    plt.show()\n",
        "\n",
        "# Вызов функции с соответствующими аргументами\n",
        "create_plot(alphas_, mse_values, \"графік усередненого за рядками MSE залежно від alpha\", \"Alpha\", \"MSE\")"
      ],
      "execution_count": null,
      "outputs": [
        {
          "output_type": "stream",
          "name": "stdout",
          "text": [
            "regressor.coef_.shape=(12,)\n",
            "regressor.alphas.shape=(20,)\n",
            "regressor.mse_path_.shape=(20, 3)\n",
            "regressor.alphas_=array([96, 91, 86, 81, 76, 71, 66, 61, 56, 51, 46, 41, 36, 31, 26, 21, 16,\n",
            "       11,  6,  1])\n",
            "mse_values=array([851990.72268622, 846392.15883646, 840822.79452996, 835574.34242349,\n",
            "       830286.6292665 , 825198.48200101, 820159.70188599, 815491.23843715,\n",
            "       811192.90438185, 807264.70262735, 803575.5866472 , 800211.24746207,\n",
            "       797217.56999301, 794594.56066723, 792342.19576555, 789464.66320254,\n",
            "       786750.84083864, 783634.3772912 , 781531.09081992, 785055.14678702])\n"
          ]
        },
        {
          "output_type": "display_data",
          "data": {
            "text/plain": [
              "<Figure size 1000x600 with 1 Axes>"
            ],
            "image/png": "[encoded data removed]"
          },
          "metadata": {}
        }
      ]
    },
    {
      "cell_type": "code",
      "source": [],
      "metadata": {
        "id": "HmoiariC3Kli"
      },
      "execution_count": null,
      "outputs": []
    },
    {
      "cell_type": "markdown",
      "metadata": {
        "id": "hRoEnDtfF0cu"
      },
      "source": [
        "Отже, ми вибрали певний параметр регуляризації. Давайте подивимося, які б ми вибирали alpha, якби ділили вибірку лише один раз на навчальну та тестову, тобто розглянемо траєкторії MSE, що відповідають окремим блокам вибірки."
      ]
    },
    {
      "cell_type": "markdown",
      "metadata": {
        "id": "Jvl3XiPmF0cu"
      },
      "source": [
        "### Завдання 9\n",
        "\n",
        "Виведіть значення `alpha`, що відповідають мінімумам `MSE` на кожному розбитті (тобто за стовпцями).\n",
        "На трьох окремих графіках візуалізуйте стовпці `mse_path_`.\n"
      ]
    },
    {
      "cell_type": "code",
      "metadata": {
        "id": "cpiFOLHHF0cu",
        "outputId": "09faf40e-2437-4bbc-c4e4-48be5dd201b8",
        "colab": {
          "base_uri": "https://localhost:8080/"
        }
      },
      "source": [
        "print(\"Alphas with minimum MSE:\")\n",
        "print(f\"{regressor.mse_path_.shape=}\")\n",
        "\n",
        "\n",
        "min_values = np.min(regressor.mse_path_, axis=0)\n",
        "print(f\"{min_values=}\")\n",
        "min_idx = np.argmin(regressor.mse_path_, axis=0)\n",
        "print(f\"{min_idx=}\")\n",
        "alphas = []\n",
        "for i, idx in enumerate(min_idx):\n",
        "  mse = min_values[i]\n",
        "  alpha = regressor.alphas_[idx]\n",
        "  alphas.append(alpha)\n",
        "  print(f\"{idx}: Alpha = {alpha}, MSE = {mse}\")\n",
        "\n",
        "def create_plot(alphas, mses, title, xlabel, ylabel, min=None):\n",
        "    plt.figure(figsize=(10, 6))\n",
        "    plt.plot(alphas, mses, marker='o', linestyle='-', color='b')\n",
        "    if min:\n",
        "        plt.scatter(min[0], min[1], color='r', zorder=5)\n",
        "        plt.annotate(f\"Alpha = {min[0]}, MSE = {min[1]:.2f}\", (min[0], min[1]), textcoords=\"offset points\", xytext=(0,10), ha='center')\n",
        "    plt.title(title)\n",
        "    plt.xlabel(xlabel)\n",
        "    plt.ylabel(ylabel)\n",
        "    plt.grid(True)\n",
        "    plt.show()\n",
        "\n",
        "\n",
        "# Alpha = 41, MSE = 843336.181499\n",
        "# Alpha = 6, MSE = 772598.495628\n",
        "# Alpha = 1, MSE = 745668.605961"
      ],
      "execution_count": null,
      "outputs": [
        {
          "output_type": "stream",
          "name": "stdout",
          "text": [
            "Alphas with minimum MSE:\n",
            "regressor.mse_path_.shape=(20, 3)\n",
            "min_values=array([733725.76040522, 799433.16736917, 796979.89551936])\n",
            "min_idx=array([18, 19,  9])\n",
            "18: Alpha = 6, MSE = 733725.7604052249\n",
            "19: Alpha = 1, MSE = 799433.1673691692\n",
            "9: Alpha = 51, MSE = 796979.8955193626\n"
          ]
        }
      ]
    },
    {
      "cell_type": "code",
      "source": [
        "for col in range(regressor.mse_path_.shape[1]):\n",
        "    data = np.vstack((regressor.alphas_, regressor.mse_path_[:, col]))\n",
        "    create_plot(data[0], data[1], f\"графік MSE залежноcті від alpha для розбиття {col+1}\", \"Alpha\", \"MSE\", min=(alphas[col], min_values[col]))"
      ],
      "metadata": {
        "colab": {
          "base_uri": "https://localhost:8080/",
          "height": 1000
        },
        "id": "duI1dBPa0p6X",
        "outputId": "bfc799a6-0fdb-4237-e903-4646db152927"
      },
      "execution_count": null,
      "outputs": [
        {
          "output_type": "display_data",
          "data": {
            "text/plain": [
              "<Figure size 1000x600 with 1 Axes>"
            ],
            "image/png": "[encoded data removed]"
          },
          "metadata": {}
        },
        {
          "output_type": "display_data",
          "data": {
            "text/plain": [
              "<Figure size 1000x600 with 1 Axes>"
            ],
            "image/png": "[encoded data removed]"
          },
          "metadata": {}
        },
        {
          "output_type": "display_data",
          "data": {
            "text/plain": [
              "<Figure size 1000x600 with 1 Axes>"
            ],
            "image/png": "[encoded data removed]"
          },
          "metadata": {}
        }
      ]
    },
    {
      "cell_type": "markdown",
      "metadata": {
        "id": "UEzEyHA1F0cv"
      },
      "source": [
        "На кожному розбитті оптимальне значення `alpha` своє, і йому відповідає велике MSE на інших розбиттях. Виходить, що ми налаштовуємося на конкретні навчальні та контрольні вибірки. При виборі `alpha` на крос-валідації ми вибираємо дещо \"середнє\", що даватиме прийнятне значення метрики на різних розбиттях вибірки."
      ]
    },
    {
      "cell_type": "markdown",
      "metadata": {
        "id": "B6rE566oF0cv"
      },
      "source": [
        "### Завдання 10\n",
        "\n",
        "Нарешті, як прийнято в аналізі даних, давайте проінтерпретуємо результат. Дайте відповіді на наступні запитання."
      ]
    },
    {
      "cell_type": "markdown",
      "metadata": {
        "id": "SSCcePDSF0cw"
      },
      "source": [
        "#### Запитання 1\n",
        "\n",
        "В останній навченій моделі виберіть 4 ознаки з найбільшими (позитивними) коефіцієнтами (і випишіть їх), подивіться на візуалізації залежностей `cnt` від цих ознак, які ми зображали у блоці \"Ознайомлення з даними\". Чи видно зростаючу лінійну залежність `cnt` від цих ознак за графіками? Чи логічно стверджувати (виходячи зі здорового глузду), що чим більше значення цих ознак, тим більше людей захочуть взяти велосипеди?"
      ]
    },
    {
      "cell_type": "markdown",
      "metadata": {
        "id": "2ikKprKqF0c0"
      },
      "source": [
        "__Відповідь:__"
      ]
    },
    {
      "cell_type": "code",
      "metadata": {
        "id": "W1MTuRXuF0c0",
        "colab": {
          "base_uri": "https://localhost:8080/"
        },
        "outputId": "bf4c0ef8-d831-4c6c-b28b-901374c7b818"
      },
      "source": [
        "print(f\"{regressor.coef_.shape=}\")\n",
        "for f,w in zip(df.columns, regressor.coef_):\n",
        "  print(f\"{f:15}: {w.round(4)}\")"
      ],
      "execution_count": null,
      "outputs": [
        {
          "output_type": "stream",
          "name": "stdout",
          "text": [
            "regressor.coef_.shape=(12,)\n",
            "season         : 532.019\n",
            "yr             : 1015.0602\n",
            "mnth           : -100.0395\n",
            "holiday        : -83.294\n",
            "weekday        : 132.5045\n",
            "workingday     : 51.5571\n",
            "weathersit     : -330.5599\n",
            "temp           : 370.6799\n",
            "atemp          : 581.3969\n",
            "hum            : -140.0074\n",
            "windspeed(mph) : -191.7714\n",
            "windspeed(ms)  : -0.0\n"
          ]
        }
      ]
    },
    {
      "cell_type": "code",
      "source": [
        "data_coef = pd.DataFrame(regressor.coef_,index=df.columns[:-1], columns=[\"Weight\"])\n",
        "data_coef"
      ],
      "metadata": {
        "colab": {
          "base_uri": "https://localhost:8080/",
          "height": 426
        },
        "id": "4zuNCVmZ1c2H",
        "outputId": "7142c4a3-261a-48a2-c4f1-fa8d2756bdf8"
      },
      "execution_count": null,
      "outputs": [
        {
          "output_type": "execute_result",
          "data": {
            "text/plain": [
              "                      Weight\n",
              "season          5.320190e+02\n",
              "yr              1.015060e+03\n",
              "mnth           -1.000395e+02\n",
              "holiday        -8.329396e+01\n",
              "weekday         1.325045e+02\n",
              "workingday      5.155709e+01\n",
              "weathersit     -3.305599e+02\n",
              "temp            3.706799e+02\n",
              "atemp           5.813969e+02\n",
              "hum            -1.400074e+02\n",
              "windspeed(mph) -1.917714e+02\n",
              "windspeed(ms)  -2.685470e-08"
            ],
            "text/html": [
              "\n",
              "  <div id=\"df-86939179-2f6b-43df-8362-3eca781db97f\" class=\"colab-df-container\">\n",
              "    <div>\n",
              "<style scoped>\n",
              "    .dataframe tbody tr th:only-of-type {\n",
              "        vertical-align: middle;\n",
              "    }\n",
              "\n",
              "    .dataframe tbody tr th {\n",
              "        vertical-align: top;\n",
              "    }\n",
              "\n",
              "    .dataframe thead th {\n",
              "        text-align: right;\n",
              "    }\n",
              "</style>\n",
              "<table border=\"1\" class=\"dataframe\">\n",
              "  <thead>\n",
              "    <tr style=\"text-align: right;\">\n",
              "      <th></th>\n",
              "      <th>Weight</th>\n",
              "    </tr>\n",
              "  </thead>\n",
              "  <tbody>\n",
              "    <tr>\n",
              "      <th>season</th>\n",
              "      <td>5.320190e+02</td>\n",
              "    </tr>\n",
              "    <tr>\n",
              "      <th>yr</th>\n",
              "      <td>1.015060e+03</td>\n",
              "    </tr>\n",
              "    <tr>\n",
              "      <th>mnth</th>\n",
              "      <td>-1.000395e+02</td>\n",
              "    </tr>\n",
              "    <tr>\n",
              "      <th>holiday</th>\n",
              "      <td>-8.329396e+01</td>\n",
              "    </tr>\n",
              "    <tr>\n",
              "      <th>weekday</th>\n",
              "      <td>1.325045e+02</td>\n",
              "    </tr>\n",
              "    <tr>\n",
              "      <th>workingday</th>\n",
              "      <td>5.155709e+01</td>\n",
              "    </tr>\n",
              "    <tr>\n",
              "      <th>weathersit</th>\n",
              "      <td>-3.305599e+02</td>\n",
              "    </tr>\n",
              "    <tr>\n",
              "      <th>temp</th>\n",
              "      <td>3.706799e+02</td>\n",
              "    </tr>\n",
              "    <tr>\n",
              "      <th>atemp</th>\n",
              "      <td>5.813969e+02</td>\n",
              "    </tr>\n",
              "    <tr>\n",
              "      <th>hum</th>\n",
              "      <td>-1.400074e+02</td>\n",
              "    </tr>\n",
              "    <tr>\n",
              "      <th>windspeed(mph)</th>\n",
              "      <td>-1.917714e+02</td>\n",
              "    </tr>\n",
              "    <tr>\n",
              "      <th>windspeed(ms)</th>\n",
              "      <td>-2.685470e-08</td>\n",
              "    </tr>\n",
              "  </tbody>\n",
              "</table>\n",
              "</div>\n",
              "    <div class=\"colab-df-buttons\">\n",
              "\n",
              "  <div class=\"colab-df-container\">\n",
              "    <button class=\"colab-df-convert\" onclick=\"convertToInteractive('df-86939179-2f6b-43df-8362-3eca781db97f')\"\n",
              "            title=\"Convert this dataframe to an interactive table.\"\n",
              "            style=\"display:none;\">\n",
              "\n",
              "  <svg xmlns=\"http://www.w3.org/2000/svg\" height=\"24px\" viewBox=\"0 -960 960 960\">\n",
              "    <path d=\"M120-120v-720h720v720H120Zm60-500h600v-160H180v160Zm220 220h160v-160H400v160Zm0 220h160v-160H400v160ZM180-400h160v-160H180v160Zm440 0h160v-160H620v160ZM180-180h160v-160H180v160Zm440 0h160v-160H620v160Z\"/>\n",
              "  </svg>\n",
              "    </button>\n",
              "\n",
              "  <style>\n",
              "    .colab-df-container {\n",
              "      display:flex;\n",
              "      gap: 12px;\n",
              "    }\n",
              "\n",
              "    .colab-df-convert {\n",
              "      background-color: #E8F0FE;\n",
              "      border: none;\n",
              "      border-radius: 50%;\n",
              "      cursor: pointer;\n",
              "      display: none;\n",
              "      fill: #1967D2;\n",
              "      height: 32px;\n",
              "      padding: 0 0 0 0;\n",
              "      width: 32px;\n",
              "    }\n",
              "\n",
              "    .colab-df-convert:hover {\n",
              "      background-color: #E2EBFA;\n",
              "      box-shadow: 0px 1px 2px rgba(60, 64, 67, 0.3), 0px 1px 3px 1px rgba(60, 64, 67, 0.15);\n",
              "      fill: #174EA6;\n",
              "    }\n",
              "\n",
              "    .colab-df-buttons div {\n",
              "      margin-bottom: 4px;\n",
              "    }\n",
              "\n",
              "    [theme=dark] .colab-df-convert {\n",
              "      background-color: #3B4455;\n",
              "      fill: #D2E3FC;\n",
              "    }\n",
              "\n",
              "    [theme=dark] .colab-df-convert:hover {\n",
              "      background-color: #434B5C;\n",
              "      box-shadow: 0px 1px 3px 1px rgba(0, 0, 0, 0.15);\n",
              "      filter: drop-shadow(0px 1px 2px rgba(0, 0, 0, 0.3));\n",
              "      fill: #FFFFFF;\n",
              "    }\n",
              "  </style>\n",
              "\n",
              "    <script>\n",
              "      const buttonEl =\n",
              "        document.querySelector('#df-86939179-2f6b-43df-8362-3eca781db97f button.colab-df-convert');\n",
              "      buttonEl.style.display =\n",
              "        google.colab.kernel.accessAllowed ? 'block' : 'none';\n",
              "\n",
              "      async function convertToInteractive(key) {\n",
              "        const element = document.querySelector('#df-86939179-2f6b-43df-8362-3eca781db97f');\n",
              "        const dataTable =\n",
              "          await google.colab.kernel.invokeFunction('convertToInteractive',\n",
              "                                                    [key], {});\n",
              "        if (!dataTable) return;\n",
              "\n",
              "        const docLinkHtml = 'Like what you see? Visit the ' +\n",
              "          '<a target=\"_blank\" href=https://colab.research.google.com/notebooks/data_table.ipynb>data table notebook</a>'\n",
              "          + ' to learn more about interactive tables.';\n",
              "        element.innerHTML = '';\n",
              "        dataTable['output_type'] = 'display_data';\n",
              "        await google.colab.output.renderOutput(dataTable, element);\n",
              "        const docLink = document.createElement('div');\n",
              "        docLink.innerHTML = docLinkHtml;\n",
              "        element.appendChild(docLink);\n",
              "      }\n",
              "    </script>\n",
              "  </div>\n",
              "\n",
              "\n",
              "<div id=\"df-9e744dc5-2d19-44fe-a5c4-9345523e7c7d\">\n",
              "  <button class=\"colab-df-quickchart\" onclick=\"quickchart('df-9e744dc5-2d19-44fe-a5c4-9345523e7c7d')\"\n",
              "            title=\"Suggest charts\"\n",
              "            style=\"display:none;\">\n",
              "\n",
              "<svg xmlns=\"http://www.w3.org/2000/svg\" height=\"24px\"viewBox=\"0 0 24 24\"\n",
              "     width=\"24px\">\n",
              "    <g>\n",
              "        <path d=\"M19 3H5c-1.1 0-2 .9-2 2v14c0 1.1.9 2 2 2h14c1.1 0 2-.9 2-2V5c0-1.1-.9-2-2-2zM9 17H7v-7h2v7zm4 0h-2V7h2v10zm4 0h-2v-4h2v4z\"/>\n",
              "    </g>\n",
              "</svg>\n",
              "  </button>\n",
              "\n",
              "<style>\n",
              "  .colab-df-quickchart {\n",
              "      --bg-color: #E8F0FE;\n",
              "      --fill-color: #1967D2;\n",
              "      --hover-bg-color: #E2EBFA;\n",
              "      --hover-fill-color: #174EA6;\n",
              "      --disabled-fill-color: #AAA;\n",
              "      --disabled-bg-color: #DDD;\n",
              "  }\n",
              "\n",
              "  [theme=dark] .colab-df-quickchart {\n",
              "      --bg-color: #3B4455;\n",
              "      --fill-color: #D2E3FC;\n",
              "      --hover-bg-color: #434B5C;\n",
              "      --hover-fill-color: #FFFFFF;\n",
              "      --disabled-bg-color: #3B4455;\n",
              "      --disabled-fill-color: #666;\n",
              "  }\n",
              "\n",
              "  .colab-df-quickchart {\n",
              "    background-color: var(--bg-color);\n",
              "    border: none;\n",
              "    border-radius: 50%;\n",
              "    cursor: pointer;\n",
              "    display: none;\n",
              "    fill: var(--fill-color);\n",
              "    height: 32px;\n",
              "    padding: 0;\n",
              "    width: 32px;\n",
              "  }\n",
              "\n",
              "  .colab-df-quickchart:hover {\n",
              "    background-color: var(--hover-bg-color);\n",
              "    box-shadow: 0 1px 2px rgba(60, 64, 67, 0.3), 0 1px 3px 1px rgba(60, 64, 67, 0.15);\n",
              "    fill: var(--button-hover-fill-color);\n",
              "  }\n",
              "\n",
              "  .colab-df-quickchart-complete:disabled,\n",
              "  .colab-df-quickchart-complete:disabled:hover {\n",
              "    background-color: var(--disabled-bg-color);\n",
              "    fill: var(--disabled-fill-color);\n",
              "    box-shadow: none;\n",
              "  }\n",
              "\n",
              "  .colab-df-spinner {\n",
              "    border: 2px solid var(--fill-color);\n",
              "    border-color: transparent;\n",
              "    border-bottom-color: var(--fill-color);\n",
              "    animation:\n",
              "      spin 1s steps(1) infinite;\n",
              "  }\n",
              "\n",
              "  @keyframes spin {\n",
              "    0% {\n",
              "      border-color: transparent;\n",
              "      border-bottom-color: var(--fill-color);\n",
              "      border-left-color: var(--fill-color);\n",
              "    }\n",
              "    20% {\n",
              "      border-color: transparent;\n",
              "      border-left-color: var(--fill-color);\n",
              "      border-top-color: var(--fill-color);\n",
              "    }\n",
              "    30% {\n",
              "      border-color: transparent;\n",
              "      border-left-color: var(--fill-color);\n",
              "      border-top-color: var(--fill-color);\n",
              "      border-right-color: var(--fill-color);\n",
              "    }\n",
              "    40% {\n",
              "      border-color: transparent;\n",
              "      border-right-color: var(--fill-color);\n",
              "      border-top-color: var(--fill-color);\n",
              "    }\n",
              "    60% {\n",
              "      border-color: transparent;\n",
              "      border-right-color: var(--fill-color);\n",
              "    }\n",
              "    80% {\n",
              "      border-color: transparent;\n",
              "      border-right-color: var(--fill-color);\n",
              "      border-bottom-color: var(--fill-color);\n",
              "    }\n",
              "    90% {\n",
              "      border-color: transparent;\n",
              "      border-bottom-color: var(--fill-color);\n",
              "    }\n",
              "  }\n",
              "</style>\n",
              "\n",
              "  <script>\n",
              "    async function quickchart(key) {\n",
              "      const quickchartButtonEl =\n",
              "        document.querySelector('#' + key + ' button');\n",
              "      quickchartButtonEl.disabled = true;  // To prevent multiple clicks.\n",
              "      quickchartButtonEl.classList.add('colab-df-spinner');\n",
              "      try {\n",
              "        const charts = await google.colab.kernel.invokeFunction(\n",
              "            'suggestCharts', [key], {});\n",
              "      } catch (error) {\n",
              "        console.error('Error during call to suggestCharts:', error);\n",
              "      }\n",
              "      quickchartButtonEl.classList.remove('colab-df-spinner');\n",
              "      quickchartButtonEl.classList.add('colab-df-quickchart-complete');\n",
              "    }\n",
              "    (() => {\n",
              "      let quickchartButtonEl =\n",
              "        document.querySelector('#df-9e744dc5-2d19-44fe-a5c4-9345523e7c7d button');\n",
              "      quickchartButtonEl.style.display =\n",
              "        google.colab.kernel.accessAllowed ? 'block' : 'none';\n",
              "    })();\n",
              "  </script>\n",
              "</div>\n",
              "    </div>\n",
              "  </div>\n"
            ],
            "application/vnd.google.colaboratory.intrinsic+json": {
              "type": "dataframe",
              "variable_name": "data_coef",
              "summary": "{\n  \"name\": \"data_coef\",\n  \"rows\": 12,\n  \"fields\": [\n    {\n      \"column\": \"Weight\",\n      \"properties\": {\n        \"dtype\": \"number\",\n        \"std\": 394.30558471896285,\n        \"min\": -330.5598567399817,\n        \"max\": 1015.0602226430595,\n        \"num_unique_values\": 12,\n        \"samples\": [\n          -191.77140847135036,\n          -140.00740550068844,\n          532.0189828413535\n        ],\n        \"semantic_type\": \"\",\n        \"description\": \"\"\n      }\n    }\n  ]\n}"
            }
          },
          "metadata": {},
          "execution_count": 57
        }
      ]
    },
    {
      "cell_type": "code",
      "source": [
        "data_coef[data_coef > 0].dropna().sort_values(by=['Weight'],ascending=False).head(4)"
      ],
      "metadata": {
        "colab": {
          "base_uri": "https://localhost:8080/",
          "height": 175
        },
        "id": "cW_HSe6K1epH",
        "outputId": "c4d19c0f-338c-4248-8ae7-c22d98f37c85"
      },
      "execution_count": null,
      "outputs": [
        {
          "output_type": "execute_result",
          "data": {
            "text/plain": [
              "             Weight\n",
              "yr      1015.060223\n",
              "atemp    581.396931\n",
              "season   532.018983\n",
              "temp     370.679855"
            ],
            "text/html": [
              "\n",
              "  <div id=\"df-8f601333-3cbb-42fd-b61a-3fefac84348d\" class=\"colab-df-container\">\n",
              "    <div>\n",
              "<style scoped>\n",
              "    .dataframe tbody tr th:only-of-type {\n",
              "        vertical-align: middle;\n",
              "    }\n",
              "\n",
              "    .dataframe tbody tr th {\n",
              "        vertical-align: top;\n",
              "    }\n",
              "\n",
              "    .dataframe thead th {\n",
              "        text-align: right;\n",
              "    }\n",
              "</style>\n",
              "<table border=\"1\" class=\"dataframe\">\n",
              "  <thead>\n",
              "    <tr style=\"text-align: right;\">\n",
              "      <th></th>\n",
              "      <th>Weight</th>\n",
              "    </tr>\n",
              "  </thead>\n",
              "  <tbody>\n",
              "    <tr>\n",
              "      <th>yr</th>\n",
              "      <td>1015.060223</td>\n",
              "    </tr>\n",
              "    <tr>\n",
              "      <th>atemp</th>\n",
              "      <td>581.396931</td>\n",
              "    </tr>\n",
              "    <tr>\n",
              "      <th>season</th>\n",
              "      <td>532.018983</td>\n",
              "    </tr>\n",
              "    <tr>\n",
              "      <th>temp</th>\n",
              "      <td>370.679855</td>\n",
              "    </tr>\n",
              "  </tbody>\n",
              "</table>\n",
              "</div>\n",
              "    <div class=\"colab-df-buttons\">\n",
              "\n",
              "  <div class=\"colab-df-container\">\n",
              "    <button class=\"colab-df-convert\" onclick=\"convertToInteractive('df-8f601333-3cbb-42fd-b61a-3fefac84348d')\"\n",
              "            title=\"Convert this dataframe to an interactive table.\"\n",
              "            style=\"display:none;\">\n",
              "\n",
              "  <svg xmlns=\"http://www.w3.org/2000/svg\" height=\"24px\" viewBox=\"0 -960 960 960\">\n",
              "    <path d=\"M120-120v-720h720v720H120Zm60-500h600v-160H180v160Zm220 220h160v-160H400v160Zm0 220h160v-160H400v160ZM180-400h160v-160H180v160Zm440 0h160v-160H620v160ZM180-180h160v-160H180v160Zm440 0h160v-160H620v160Z\"/>\n",
              "  </svg>\n",
              "    </button>\n",
              "\n",
              "  <style>\n",
              "    .colab-df-container {\n",
              "      display:flex;\n",
              "      gap: 12px;\n",
              "    }\n",
              "\n",
              "    .colab-df-convert {\n",
              "      background-color: #E8F0FE;\n",
              "      border: none;\n",
              "      border-radius: 50%;\n",
              "      cursor: pointer;\n",
              "      display: none;\n",
              "      fill: #1967D2;\n",
              "      height: 32px;\n",
              "      padding: 0 0 0 0;\n",
              "      width: 32px;\n",
              "    }\n",
              "\n",
              "    .colab-df-convert:hover {\n",
              "      background-color: #E2EBFA;\n",
              "      box-shadow: 0px 1px 2px rgba(60, 64, 67, 0.3), 0px 1px 3px 1px rgba(60, 64, 67, 0.15);\n",
              "      fill: #174EA6;\n",
              "    }\n",
              "\n",
              "    .colab-df-buttons div {\n",
              "      margin-bottom: 4px;\n",
              "    }\n",
              "\n",
              "    [theme=dark] .colab-df-convert {\n",
              "      background-color: #3B4455;\n",
              "      fill: #D2E3FC;\n",
              "    }\n",
              "\n",
              "    [theme=dark] .colab-df-convert:hover {\n",
              "      background-color: #434B5C;\n",
              "      box-shadow: 0px 1px 3px 1px rgba(0, 0, 0, 0.15);\n",
              "      filter: drop-shadow(0px 1px 2px rgba(0, 0, 0, 0.3));\n",
              "      fill: #FFFFFF;\n",
              "    }\n",
              "  </style>\n",
              "\n",
              "    <script>\n",
              "      const buttonEl =\n",
              "        document.querySelector('#df-8f601333-3cbb-42fd-b61a-3fefac84348d button.colab-df-convert');\n",
              "      buttonEl.style.display =\n",
              "        google.colab.kernel.accessAllowed ? 'block' : 'none';\n",
              "\n",
              "      async function convertToInteractive(key) {\n",
              "        const element = document.querySelector('#df-8f601333-3cbb-42fd-b61a-3fefac84348d');\n",
              "        const dataTable =\n",
              "          await google.colab.kernel.invokeFunction('convertToInteractive',\n",
              "                                                    [key], {});\n",
              "        if (!dataTable) return;\n",
              "\n",
              "        const docLinkHtml = 'Like what you see? Visit the ' +\n",
              "          '<a target=\"_blank\" href=https://colab.research.google.com/notebooks/data_table.ipynb>data table notebook</a>'\n",
              "          + ' to learn more about interactive tables.';\n",
              "        element.innerHTML = '';\n",
              "        dataTable['output_type'] = 'display_data';\n",
              "        await google.colab.output.renderOutput(dataTable, element);\n",
              "        const docLink = document.createElement('div');\n",
              "        docLink.innerHTML = docLinkHtml;\n",
              "        element.appendChild(docLink);\n",
              "      }\n",
              "    </script>\n",
              "  </div>\n",
              "\n",
              "\n",
              "<div id=\"df-99b6b84f-f145-4df2-bfba-7d34a9e221c2\">\n",
              "  <button class=\"colab-df-quickchart\" onclick=\"quickchart('df-99b6b84f-f145-4df2-bfba-7d34a9e221c2')\"\n",
              "            title=\"Suggest charts\"\n",
              "            style=\"display:none;\">\n",
              "\n",
              "<svg xmlns=\"http://www.w3.org/2000/svg\" height=\"24px\"viewBox=\"0 0 24 24\"\n",
              "     width=\"24px\">\n",
              "    <g>\n",
              "        <path d=\"M19 3H5c-1.1 0-2 .9-2 2v14c0 1.1.9 2 2 2h14c1.1 0 2-.9 2-2V5c0-1.1-.9-2-2-2zM9 17H7v-7h2v7zm4 0h-2V7h2v10zm4 0h-2v-4h2v4z\"/>\n",
              "    </g>\n",
              "</svg>\n",
              "  </button>\n",
              "\n",
              "<style>\n",
              "  .colab-df-quickchart {\n",
              "      --bg-color: #E8F0FE;\n",
              "      --fill-color: #1967D2;\n",
              "      --hover-bg-color: #E2EBFA;\n",
              "      --hover-fill-color: #174EA6;\n",
              "      --disabled-fill-color: #AAA;\n",
              "      --disabled-bg-color: #DDD;\n",
              "  }\n",
              "\n",
              "  [theme=dark] .colab-df-quickchart {\n",
              "      --bg-color: #3B4455;\n",
              "      --fill-color: #D2E3FC;\n",
              "      --hover-bg-color: #434B5C;\n",
              "      --hover-fill-color: #FFFFFF;\n",
              "      --disabled-bg-color: #3B4455;\n",
              "      --disabled-fill-color: #666;\n",
              "  }\n",
              "\n",
              "  .colab-df-quickchart {\n",
              "    background-color: var(--bg-color);\n",
              "    border: none;\n",
              "    border-radius: 50%;\n",
              "    cursor: pointer;\n",
              "    display: none;\n",
              "    fill: var(--fill-color);\n",
              "    height: 32px;\n",
              "    padding: 0;\n",
              "    width: 32px;\n",
              "  }\n",
              "\n",
              "  .colab-df-quickchart:hover {\n",
              "    background-color: var(--hover-bg-color);\n",
              "    box-shadow: 0 1px 2px rgba(60, 64, 67, 0.3), 0 1px 3px 1px rgba(60, 64, 67, 0.15);\n",
              "    fill: var(--button-hover-fill-color);\n",
              "  }\n",
              "\n",
              "  .colab-df-quickchart-complete:disabled,\n",
              "  .colab-df-quickchart-complete:disabled:hover {\n",
              "    background-color: var(--disabled-bg-color);\n",
              "    fill: var(--disabled-fill-color);\n",
              "    box-shadow: none;\n",
              "  }\n",
              "\n",
              "  .colab-df-spinner {\n",
              "    border: 2px solid var(--fill-color);\n",
              "    border-color: transparent;\n",
              "    border-bottom-color: var(--fill-color);\n",
              "    animation:\n",
              "      spin 1s steps(1) infinite;\n",
              "  }\n",
              "\n",
              "  @keyframes spin {\n",
              "    0% {\n",
              "      border-color: transparent;\n",
              "      border-bottom-color: var(--fill-color);\n",
              "      border-left-color: var(--fill-color);\n",
              "    }\n",
              "    20% {\n",
              "      border-color: transparent;\n",
              "      border-left-color: var(--fill-color);\n",
              "      border-top-color: var(--fill-color);\n",
              "    }\n",
              "    30% {\n",
              "      border-color: transparent;\n",
              "      border-left-color: var(--fill-color);\n",
              "      border-top-color: var(--fill-color);\n",
              "      border-right-color: var(--fill-color);\n",
              "    }\n",
              "    40% {\n",
              "      border-color: transparent;\n",
              "      border-right-color: var(--fill-color);\n",
              "      border-top-color: var(--fill-color);\n",
              "    }\n",
              "    60% {\n",
              "      border-color: transparent;\n",
              "      border-right-color: var(--fill-color);\n",
              "    }\n",
              "    80% {\n",
              "      border-color: transparent;\n",
              "      border-right-color: var(--fill-color);\n",
              "      border-bottom-color: var(--fill-color);\n",
              "    }\n",
              "    90% {\n",
              "      border-color: transparent;\n",
              "      border-bottom-color: var(--fill-color);\n",
              "    }\n",
              "  }\n",
              "</style>\n",
              "\n",
              "  <script>\n",
              "    async function quickchart(key) {\n",
              "      const quickchartButtonEl =\n",
              "        document.querySelector('#' + key + ' button');\n",
              "      quickchartButtonEl.disabled = true;  // To prevent multiple clicks.\n",
              "      quickchartButtonEl.classList.add('colab-df-spinner');\n",
              "      try {\n",
              "        const charts = await google.colab.kernel.invokeFunction(\n",
              "            'suggestCharts', [key], {});\n",
              "      } catch (error) {\n",
              "        console.error('Error during call to suggestCharts:', error);\n",
              "      }\n",
              "      quickchartButtonEl.classList.remove('colab-df-spinner');\n",
              "      quickchartButtonEl.classList.add('colab-df-quickchart-complete');\n",
              "    }\n",
              "    (() => {\n",
              "      let quickchartButtonEl =\n",
              "        document.querySelector('#df-99b6b84f-f145-4df2-bfba-7d34a9e221c2 button');\n",
              "      quickchartButtonEl.style.display =\n",
              "        google.colab.kernel.accessAllowed ? 'block' : 'none';\n",
              "    })();\n",
              "  </script>\n",
              "</div>\n",
              "    </div>\n",
              "  </div>\n"
            ],
            "application/vnd.google.colaboratory.intrinsic+json": {
              "type": "dataframe",
              "summary": "{\n  \"name\": \"data_coef[data_coef > 0]\",\n  \"rows\": 4,\n  \"fields\": [\n    {\n      \"column\": \"Weight\",\n      \"properties\": {\n        \"dtype\": \"number\",\n        \"std\": 275.3011881017515,\n        \"min\": 370.67985503003405,\n        \"max\": 1015.0602226430595,\n        \"num_unique_values\": 4,\n        \"samples\": [\n          581.396931065498,\n          370.67985503003405,\n          1015.0602226430595\n        ],\n        \"semantic_type\": \"\",\n        \"description\": \"\"\n      }\n    }\n  ]\n}"
            }
          },
          "metadata": {},
          "execution_count": 58
        }
      ]
    },
    {
      "cell_type": "markdown",
      "source": [
        "Для yr данних не вистачає аби точно стверждувати що залежність є . Аtemp, temp - мають залежність, до деякої межі, season - теж тенденцію помітно.\n",
        "\n",
        "Більше значення цих ознак імовірно збільшить кількість людей, які захочуть узяти велосипеди."
      ],
      "metadata": {
        "id": "kX9AWBCX1oRk"
      }
    },
    {
      "cell_type": "markdown",
      "metadata": {
        "id": "DkQTu53pF0c0"
      },
      "source": [
        "#### Запитання 2\n",
        "\n",
        "Виберіть 3 ознаки з найбільшими за модулем негативними коефіцієнтами (і випишіть їх), подивіться на відповідні візуалізації. Чи видно лінійну залежність, що зменшується? Чи логічно стверджувати, що чим більша величина цих ознак, тим менше людей захочуть взяти велосипеди?"
      ]
    },
    {
      "cell_type": "markdown",
      "metadata": {
        "id": "DUN8I7shF0c0"
      },
      "source": [
        "__Відповідь:__"
      ]
    },
    {
      "cell_type": "code",
      "metadata": {
        "id": "jv1CGs-8F0c1",
        "colab": {
          "base_uri": "https://localhost:8080/",
          "height": 143
        },
        "outputId": "cdeb84fc-1998-4dc5-f3bf-46e66e90972e"
      },
      "source": [
        "data_coef[data_coef < 0].dropna().abs().sort_values(by=['Weight'],ascending=False).head(3)"
      ],
      "execution_count": null,
      "outputs": [
        {
          "output_type": "execute_result",
          "data": {
            "text/plain": [
              "                    Weight\n",
              "weathersit      330.559857\n",
              "windspeed(mph)  191.771408\n",
              "hum             140.007406"
            ],
            "text/html": [
              "\n",
              "  <div id=\"df-19eb51fa-70b8-43db-b09c-cd032a359df4\" class=\"colab-df-container\">\n",
              "    <div>\n",
              "<style scoped>\n",
              "    .dataframe tbody tr th:only-of-type {\n",
              "        vertical-align: middle;\n",
              "    }\n",
              "\n",
              "    .dataframe tbody tr th {\n",
              "        vertical-align: top;\n",
              "    }\n",
              "\n",
              "    .dataframe thead th {\n",
              "        text-align: right;\n",
              "    }\n",
              "</style>\n",
              "<table border=\"1\" class=\"dataframe\">\n",
              "  <thead>\n",
              "    <tr style=\"text-align: right;\">\n",
              "      <th></th>\n",
              "      <th>Weight</th>\n",
              "    </tr>\n",
              "  </thead>\n",
              "  <tbody>\n",
              "    <tr>\n",
              "      <th>weathersit</th>\n",
              "      <td>330.559857</td>\n",
              "    </tr>\n",
              "    <tr>\n",
              "      <th>windspeed(mph)</th>\n",
              "      <td>191.771408</td>\n",
              "    </tr>\n",
              "    <tr>\n",
              "      <th>hum</th>\n",
              "      <td>140.007406</td>\n",
              "    </tr>\n",
              "  </tbody>\n",
              "</table>\n",
              "</div>\n",
              "    <div class=\"colab-df-buttons\">\n",
              "\n",
              "  <div class=\"colab-df-container\">\n",
              "    <button class=\"colab-df-convert\" onclick=\"convertToInteractive('df-19eb51fa-70b8-43db-b09c-cd032a359df4')\"\n",
              "            title=\"Convert this dataframe to an interactive table.\"\n",
              "            style=\"display:none;\">\n",
              "\n",
              "  <svg xmlns=\"http://www.w3.org/2000/svg\" height=\"24px\" viewBox=\"0 -960 960 960\">\n",
              "    <path d=\"M120-120v-720h720v720H120Zm60-500h600v-160H180v160Zm220 220h160v-160H400v160Zm0 220h160v-160H400v160ZM180-400h160v-160H180v160Zm440 0h160v-160H620v160ZM180-180h160v-160H180v160Zm440 0h160v-160H620v160Z\"/>\n",
              "  </svg>\n",
              "    </button>\n",
              "\n",
              "  <style>\n",
              "    .colab-df-container {\n",
              "      display:flex;\n",
              "      gap: 12px;\n",
              "    }\n",
              "\n",
              "    .colab-df-convert {\n",
              "      background-color: #E8F0FE;\n",
              "      border: none;\n",
              "      border-radius: 50%;\n",
              "      cursor: pointer;\n",
              "      display: none;\n",
              "      fill: #1967D2;\n",
              "      height: 32px;\n",
              "      padding: 0 0 0 0;\n",
              "      width: 32px;\n",
              "    }\n",
              "\n",
              "    .colab-df-convert:hover {\n",
              "      background-color: #E2EBFA;\n",
              "      box-shadow: 0px 1px 2px rgba(60, 64, 67, 0.3), 0px 1px 3px 1px rgba(60, 64, 67, 0.15);\n",
              "      fill: #174EA6;\n",
              "    }\n",
              "\n",
              "    .colab-df-buttons div {\n",
              "      margin-bottom: 4px;\n",
              "    }\n",
              "\n",
              "    [theme=dark] .colab-df-convert {\n",
              "      background-color: #3B4455;\n",
              "      fill: #D2E3FC;\n",
              "    }\n",
              "\n",
              "    [theme=dark] .colab-df-convert:hover {\n",
              "      background-color: #434B5C;\n",
              "      box-shadow: 0px 1px 3px 1px rgba(0, 0, 0, 0.15);\n",
              "      filter: drop-shadow(0px 1px 2px rgba(0, 0, 0, 0.3));\n",
              "      fill: #FFFFFF;\n",
              "    }\n",
              "  </style>\n",
              "\n",
              "    <script>\n",
              "      const buttonEl =\n",
              "        document.querySelector('#df-19eb51fa-70b8-43db-b09c-cd032a359df4 button.colab-df-convert');\n",
              "      buttonEl.style.display =\n",
              "        google.colab.kernel.accessAllowed ? 'block' : 'none';\n",
              "\n",
              "      async function convertToInteractive(key) {\n",
              "        const element = document.querySelector('#df-19eb51fa-70b8-43db-b09c-cd032a359df4');\n",
              "        const dataTable =\n",
              "          await google.colab.kernel.invokeFunction('convertToInteractive',\n",
              "                                                    [key], {});\n",
              "        if (!dataTable) return;\n",
              "\n",
              "        const docLinkHtml = 'Like what you see? Visit the ' +\n",
              "          '<a target=\"_blank\" href=https://colab.research.google.com/notebooks/data_table.ipynb>data table notebook</a>'\n",
              "          + ' to learn more about interactive tables.';\n",
              "        element.innerHTML = '';\n",
              "        dataTable['output_type'] = 'display_data';\n",
              "        await google.colab.output.renderOutput(dataTable, element);\n",
              "        const docLink = document.createElement('div');\n",
              "        docLink.innerHTML = docLinkHtml;\n",
              "        element.appendChild(docLink);\n",
              "      }\n",
              "    </script>\n",
              "  </div>\n",
              "\n",
              "\n",
              "<div id=\"df-33a7ac70-61ad-4b13-b1a4-751e42a8aa54\">\n",
              "  <button class=\"colab-df-quickchart\" onclick=\"quickchart('df-33a7ac70-61ad-4b13-b1a4-751e42a8aa54')\"\n",
              "            title=\"Suggest charts\"\n",
              "            style=\"display:none;\">\n",
              "\n",
              "<svg xmlns=\"http://www.w3.org/2000/svg\" height=\"24px\"viewBox=\"0 0 24 24\"\n",
              "     width=\"24px\">\n",
              "    <g>\n",
              "        <path d=\"M19 3H5c-1.1 0-2 .9-2 2v14c0 1.1.9 2 2 2h14c1.1 0 2-.9 2-2V5c0-1.1-.9-2-2-2zM9 17H7v-7h2v7zm4 0h-2V7h2v10zm4 0h-2v-4h2v4z\"/>\n",
              "    </g>\n",
              "</svg>\n",
              "  </button>\n",
              "\n",
              "<style>\n",
              "  .colab-df-quickchart {\n",
              "      --bg-color: #E8F0FE;\n",
              "      --fill-color: #1967D2;\n",
              "      --hover-bg-color: #E2EBFA;\n",
              "      --hover-fill-color: #174EA6;\n",
              "      --disabled-fill-color: #AAA;\n",
              "      --disabled-bg-color: #DDD;\n",
              "  }\n",
              "\n",
              "  [theme=dark] .colab-df-quickchart {\n",
              "      --bg-color: #3B4455;\n",
              "      --fill-color: #D2E3FC;\n",
              "      --hover-bg-color: #434B5C;\n",
              "      --hover-fill-color: #FFFFFF;\n",
              "      --disabled-bg-color: #3B4455;\n",
              "      --disabled-fill-color: #666;\n",
              "  }\n",
              "\n",
              "  .colab-df-quickchart {\n",
              "    background-color: var(--bg-color);\n",
              "    border: none;\n",
              "    border-radius: 50%;\n",
              "    cursor: pointer;\n",
              "    display: none;\n",
              "    fill: var(--fill-color);\n",
              "    height: 32px;\n",
              "    padding: 0;\n",
              "    width: 32px;\n",
              "  }\n",
              "\n",
              "  .colab-df-quickchart:hover {\n",
              "    background-color: var(--hover-bg-color);\n",
              "    box-shadow: 0 1px 2px rgba(60, 64, 67, 0.3), 0 1px 3px 1px rgba(60, 64, 67, 0.15);\n",
              "    fill: var(--button-hover-fill-color);\n",
              "  }\n",
              "\n",
              "  .colab-df-quickchart-complete:disabled,\n",
              "  .colab-df-quickchart-complete:disabled:hover {\n",
              "    background-color: var(--disabled-bg-color);\n",
              "    fill: var(--disabled-fill-color);\n",
              "    box-shadow: none;\n",
              "  }\n",
              "\n",
              "  .colab-df-spinner {\n",
              "    border: 2px solid var(--fill-color);\n",
              "    border-color: transparent;\n",
              "    border-bottom-color: var(--fill-color);\n",
              "    animation:\n",
              "      spin 1s steps(1) infinite;\n",
              "  }\n",
              "\n",
              "  @keyframes spin {\n",
              "    0% {\n",
              "      border-color: transparent;\n",
              "      border-bottom-color: var(--fill-color);\n",
              "      border-left-color: var(--fill-color);\n",
              "    }\n",
              "    20% {\n",
              "      border-color: transparent;\n",
              "      border-left-color: var(--fill-color);\n",
              "      border-top-color: var(--fill-color);\n",
              "    }\n",
              "    30% {\n",
              "      border-color: transparent;\n",
              "      border-left-color: var(--fill-color);\n",
              "      border-top-color: var(--fill-color);\n",
              "      border-right-color: var(--fill-color);\n",
              "    }\n",
              "    40% {\n",
              "      border-color: transparent;\n",
              "      border-right-color: var(--fill-color);\n",
              "      border-top-color: var(--fill-color);\n",
              "    }\n",
              "    60% {\n",
              "      border-color: transparent;\n",
              "      border-right-color: var(--fill-color);\n",
              "    }\n",
              "    80% {\n",
              "      border-color: transparent;\n",
              "      border-right-color: var(--fill-color);\n",
              "      border-bottom-color: var(--fill-color);\n",
              "    }\n",
              "    90% {\n",
              "      border-color: transparent;\n",
              "      border-bottom-color: var(--fill-color);\n",
              "    }\n",
              "  }\n",
              "</style>\n",
              "\n",
              "  <script>\n",
              "    async function quickchart(key) {\n",
              "      const quickchartButtonEl =\n",
              "        document.querySelector('#' + key + ' button');\n",
              "      quickchartButtonEl.disabled = true;  // To prevent multiple clicks.\n",
              "      quickchartButtonEl.classList.add('colab-df-spinner');\n",
              "      try {\n",
              "        const charts = await google.colab.kernel.invokeFunction(\n",
              "            'suggestCharts', [key], {});\n",
              "      } catch (error) {\n",
              "        console.error('Error during call to suggestCharts:', error);\n",
              "      }\n",
              "      quickchartButtonEl.classList.remove('colab-df-spinner');\n",
              "      quickchartButtonEl.classList.add('colab-df-quickchart-complete');\n",
              "    }\n",
              "    (() => {\n",
              "      let quickchartButtonEl =\n",
              "        document.querySelector('#df-33a7ac70-61ad-4b13-b1a4-751e42a8aa54 button');\n",
              "      quickchartButtonEl.style.display =\n",
              "        google.colab.kernel.accessAllowed ? 'block' : 'none';\n",
              "    })();\n",
              "  </script>\n",
              "</div>\n",
              "    </div>\n",
              "  </div>\n"
            ],
            "application/vnd.google.colaboratory.intrinsic+json": {
              "type": "dataframe",
              "summary": "{\n  \"name\": \"data_coef[data_coef < 0]\",\n  \"rows\": 3,\n  \"fields\": [\n    {\n      \"column\": \"Weight\",\n      \"properties\": {\n        \"dtype\": \"number\",\n        \"std\": 98.53255134697406,\n        \"min\": 140.00740550068844,\n        \"max\": 330.5598567399817,\n        \"num_unique_values\": 3,\n        \"samples\": [\n          330.5598567399817,\n          191.77140847135036,\n          140.00740550068844\n        ],\n        \"semantic_type\": \"\",\n        \"description\": \"\"\n      }\n    }\n  ]\n}"
            }
          },
          "metadata": {},
          "execution_count": 59
        }
      ]
    },
    {
      "cell_type": "markdown",
      "source": [
        "Так, із збільшенням величини цих ознак, менша кількість людей захочуть узяти велосипеди."
      ],
      "metadata": {
        "id": "tgG1aeRM1ywv"
      }
    },
    {
      "cell_type": "markdown",
      "metadata": {
        "id": "vrbD3fNSF0c1"
      },
      "source": [
        "#### Запитання 3\n",
        "\n",
        "Випишіть ознаки з коефіцієнтами, близькими до нуля (< 1e-3). Як ви думаєте, чому модель виключила їх із моделі (знову подивіться на графіки)? Чи правда, що вони ніяк не впливають на попит на велосипеди?"
      ]
    },
    {
      "cell_type": "markdown",
      "metadata": {
        "id": "tFhvV-jcF0c1"
      },
      "source": [
        "__Відповідь:__"
      ]
    },
    {
      "cell_type": "code",
      "metadata": {
        "id": "TwnJNeaIF0c1",
        "colab": {
          "base_uri": "https://localhost:8080/",
          "height": 81
        },
        "outputId": "d9ea9400-6a93-4531-e2a8-da22f1c169af"
      },
      "source": [
        "data_coef[data_coef.abs() < 1e-03].dropna()"
      ],
      "execution_count": null,
      "outputs": [
        {
          "output_type": "execute_result",
          "data": {
            "text/plain": [
              "                     Weight\n",
              "windspeed(ms) -2.685470e-08"
            ],
            "text/html": [
              "\n",
              "  <div id=\"df-e84b03c1-972a-47fd-afe0-cc680e916371\" class=\"colab-df-container\">\n",
              "    <div>\n",
              "<style scoped>\n",
              "    .dataframe tbody tr th:only-of-type {\n",
              "        vertical-align: middle;\n",
              "    }\n",
              "\n",
              "    .dataframe tbody tr th {\n",
              "        vertical-align: top;\n",
              "    }\n",
              "\n",
              "    .dataframe thead th {\n",
              "        text-align: right;\n",
              "    }\n",
              "</style>\n",
              "<table border=\"1\" class=\"dataframe\">\n",
              "  <thead>\n",
              "    <tr style=\"text-align: right;\">\n",
              "      <th></th>\n",
              "      <th>Weight</th>\n",
              "    </tr>\n",
              "  </thead>\n",
              "  <tbody>\n",
              "    <tr>\n",
              "      <th>windspeed(ms)</th>\n",
              "      <td>-2.685470e-08</td>\n",
              "    </tr>\n",
              "  </tbody>\n",
              "</table>\n",
              "</div>\n",
              "    <div class=\"colab-df-buttons\">\n",
              "\n",
              "  <div class=\"colab-df-container\">\n",
              "    <button class=\"colab-df-convert\" onclick=\"convertToInteractive('df-e84b03c1-972a-47fd-afe0-cc680e916371')\"\n",
              "            title=\"Convert this dataframe to an interactive table.\"\n",
              "            style=\"display:none;\">\n",
              "\n",
              "  <svg xmlns=\"http://www.w3.org/2000/svg\" height=\"24px\" viewBox=\"0 -960 960 960\">\n",
              "    <path d=\"M120-120v-720h720v720H120Zm60-500h600v-160H180v160Zm220 220h160v-160H400v160Zm0 220h160v-160H400v160ZM180-400h160v-160H180v160Zm440 0h160v-160H620v160ZM180-180h160v-160H180v160Zm440 0h160v-160H620v160Z\"/>\n",
              "  </svg>\n",
              "    </button>\n",
              "\n",
              "  <style>\n",
              "    .colab-df-container {\n",
              "      display:flex;\n",
              "      gap: 12px;\n",
              "    }\n",
              "\n",
              "    .colab-df-convert {\n",
              "      background-color: #E8F0FE;\n",
              "      border: none;\n",
              "      border-radius: 50%;\n",
              "      cursor: pointer;\n",
              "      display: none;\n",
              "      fill: #1967D2;\n",
              "      height: 32px;\n",
              "      padding: 0 0 0 0;\n",
              "      width: 32px;\n",
              "    }\n",
              "\n",
              "    .colab-df-convert:hover {\n",
              "      background-color: #E2EBFA;\n",
              "      box-shadow: 0px 1px 2px rgba(60, 64, 67, 0.3), 0px 1px 3px 1px rgba(60, 64, 67, 0.15);\n",
              "      fill: #174EA6;\n",
              "    }\n",
              "\n",
              "    .colab-df-buttons div {\n",
              "      margin-bottom: 4px;\n",
              "    }\n",
              "\n",
              "    [theme=dark] .colab-df-convert {\n",
              "      background-color: #3B4455;\n",
              "      fill: #D2E3FC;\n",
              "    }\n",
              "\n",
              "    [theme=dark] .colab-df-convert:hover {\n",
              "      background-color: #434B5C;\n",
              "      box-shadow: 0px 1px 3px 1px rgba(0, 0, 0, 0.15);\n",
              "      filter: drop-shadow(0px 1px 2px rgba(0, 0, 0, 0.3));\n",
              "      fill: #FFFFFF;\n",
              "    }\n",
              "  </style>\n",
              "\n",
              "    <script>\n",
              "      const buttonEl =\n",
              "        document.querySelector('#df-e84b03c1-972a-47fd-afe0-cc680e916371 button.colab-df-convert');\n",
              "      buttonEl.style.display =\n",
              "        google.colab.kernel.accessAllowed ? 'block' : 'none';\n",
              "\n",
              "      async function convertToInteractive(key) {\n",
              "        const element = document.querySelector('#df-e84b03c1-972a-47fd-afe0-cc680e916371');\n",
              "        const dataTable =\n",
              "          await google.colab.kernel.invokeFunction('convertToInteractive',\n",
              "                                                    [key], {});\n",
              "        if (!dataTable) return;\n",
              "\n",
              "        const docLinkHtml = 'Like what you see? Visit the ' +\n",
              "          '<a target=\"_blank\" href=https://colab.research.google.com/notebooks/data_table.ipynb>data table notebook</a>'\n",
              "          + ' to learn more about interactive tables.';\n",
              "        element.innerHTML = '';\n",
              "        dataTable['output_type'] = 'display_data';\n",
              "        await google.colab.output.renderOutput(dataTable, element);\n",
              "        const docLink = document.createElement('div');\n",
              "        docLink.innerHTML = docLinkHtml;\n",
              "        element.appendChild(docLink);\n",
              "      }\n",
              "    </script>\n",
              "  </div>\n",
              "\n",
              "    </div>\n",
              "  </div>\n"
            ],
            "application/vnd.google.colaboratory.intrinsic+json": {
              "type": "dataframe",
              "summary": "{\n  \"name\": \"data_coef[data_coef\",\n  \"rows\": 1,\n  \"fields\": [\n    {\n      \"column\": \"Weight\",\n      \"properties\": {\n        \"dtype\": \"number\",\n        \"std\": null,\n        \"min\": -2.6854702314758792e-08,\n        \"max\": -2.6854702314758792e-08,\n        \"num_unique_values\": 1,\n        \"samples\": [\n          -2.6854702314758792e-08\n        ],\n        \"semantic_type\": \"\",\n        \"description\": \"\"\n      }\n    }\n  ]\n}"
            }
          },
          "metadata": {},
          "execution_count": 60
        }
      ]
    },
    {
      "cell_type": "markdown",
      "metadata": {
        "id": "Wg0VQz5_F0c2"
      },
      "source": [
        "### Висновок\n",
        "Отже, ми подивилися, як можна стежити за адекватністю лінійної моделі, як відбирати ознаки і як грамотно, за можливості не налаштовуючись на якусь конкретну порцію даних, підбирати коефіцієнт регуляризації.\n",
        "\n",
        "Варто зазначити, що за допомогою крос-валідації зручно підбирати лише невелику кількість параметрів. (1, 2, максимум 3), тому що для кожної допустимої їх комбінації нам доводиться декілька разів навчати модель. Такий процес займає багато часу, особливо якщо треба навчатися на великих обсягах даних."
      ]
    }
  ]
}